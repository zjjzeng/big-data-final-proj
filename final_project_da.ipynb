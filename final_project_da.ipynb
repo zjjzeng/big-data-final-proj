{
 "cells": [
  {
   "cell_type": "code",
   "execution_count": 2,
   "id": "16281de9",
   "metadata": {},
   "outputs": [],
   "source": [
    "# import pyspark\n",
    "# spark = pyspark.sql.SparkSession.builder\\\n",
    "#     .master('local[*]')\\\n",
    "#     .appName('Shengwei\\'s first spark notebook')\\\n",
    "#     .getOrCreate()"
   ]
  },
  {
   "cell_type": "code",
   "execution_count": 3,
   "id": "3f902402",
   "metadata": {},
   "outputs": [
    {
     "name": "stderr",
     "output_type": "stream",
     "text": [
      "                                                                                \r"
     ]
    }
   ],
   "source": [
    "# df = spark.read.format(\"csv\").option(\"header\",\"true\").load(\"accidents_2005_to_2007.csv\")"
   ]
  },
  {
   "cell_type": "code",
   "execution_count": 5,
   "id": "a37f38bb",
   "metadata": {},
   "outputs": [],
   "source": [
    "import folium\n",
    "from folium import plugins\n",
    "import branca\n",
    "import pandas as pd"
   ]
  },
  {
   "cell_type": "code",
   "execution_count": 6,
   "id": "e95c4790",
   "metadata": {},
   "outputs": [
    {
     "name": "stderr",
     "output_type": "stream",
     "text": [
      "/opt/conda/envs/bigdata/lib/python3.7/site-packages/IPython/core/interactiveshell.py:3444: DtypeWarning: Columns (31) have mixed types.Specify dtype option on import or set low_memory=False.\n",
      "  exec(code_obj, self.user_global_ns, self.user_ns)\n"
     ]
    }
   ],
   "source": [
    "# TODO load data from mongodb\n",
    "df = pd.read_csv(\"accidents_2005_to_2007.csv\")"
   ]
  },
  {
   "cell_type": "code",
   "execution_count": 7,
   "id": "784e3fea",
   "metadata": {},
   "outputs": [
    {
     "data": {
      "text/html": [
       "<div>\n",
       "<style scoped>\n",
       "    .dataframe tbody tr th:only-of-type {\n",
       "        vertical-align: middle;\n",
       "    }\n",
       "\n",
       "    .dataframe tbody tr th {\n",
       "        vertical-align: top;\n",
       "    }\n",
       "\n",
       "    .dataframe thead th {\n",
       "        text-align: right;\n",
       "    }\n",
       "</style>\n",
       "<table border=\"1\" class=\"dataframe\">\n",
       "  <thead>\n",
       "    <tr style=\"text-align: right;\">\n",
       "      <th></th>\n",
       "      <th>Accident_Index</th>\n",
       "      <th>Location_Easting_OSGR</th>\n",
       "      <th>Location_Northing_OSGR</th>\n",
       "      <th>Longitude</th>\n",
       "      <th>Latitude</th>\n",
       "      <th>Police_Force</th>\n",
       "      <th>Accident_Severity</th>\n",
       "      <th>Number_of_Vehicles</th>\n",
       "      <th>Number_of_Casualties</th>\n",
       "      <th>Date</th>\n",
       "      <th>...</th>\n",
       "      <th>Pedestrian_Crossing-Physical_Facilities</th>\n",
       "      <th>Light_Conditions</th>\n",
       "      <th>Weather_Conditions</th>\n",
       "      <th>Road_Surface_Conditions</th>\n",
       "      <th>Special_Conditions_at_Site</th>\n",
       "      <th>Carriageway_Hazards</th>\n",
       "      <th>Urban_or_Rural_Area</th>\n",
       "      <th>Did_Police_Officer_Attend_Scene_of_Accident</th>\n",
       "      <th>LSOA_of_Accident_Location</th>\n",
       "      <th>Year</th>\n",
       "    </tr>\n",
       "  </thead>\n",
       "  <tbody>\n",
       "    <tr>\n",
       "      <th>0</th>\n",
       "      <td>200501BS00001</td>\n",
       "      <td>525680.0</td>\n",
       "      <td>178240.0</td>\n",
       "      <td>-0.191170</td>\n",
       "      <td>51.489096</td>\n",
       "      <td>1</td>\n",
       "      <td>2</td>\n",
       "      <td>1</td>\n",
       "      <td>1</td>\n",
       "      <td>04/01/2005</td>\n",
       "      <td>...</td>\n",
       "      <td>Zebra crossing</td>\n",
       "      <td>Daylight: Street light present</td>\n",
       "      <td>Raining without high winds</td>\n",
       "      <td>Wet/Damp</td>\n",
       "      <td>None</td>\n",
       "      <td>None</td>\n",
       "      <td>1</td>\n",
       "      <td>Yes</td>\n",
       "      <td>E01002849</td>\n",
       "      <td>2005</td>\n",
       "    </tr>\n",
       "    <tr>\n",
       "      <th>1</th>\n",
       "      <td>200501BS00002</td>\n",
       "      <td>524170.0</td>\n",
       "      <td>181650.0</td>\n",
       "      <td>-0.211708</td>\n",
       "      <td>51.520075</td>\n",
       "      <td>1</td>\n",
       "      <td>3</td>\n",
       "      <td>1</td>\n",
       "      <td>1</td>\n",
       "      <td>05/01/2005</td>\n",
       "      <td>...</td>\n",
       "      <td>Pedestrian phase at traffic signal junction</td>\n",
       "      <td>Darkness: Street lights present and lit</td>\n",
       "      <td>Fine without high winds</td>\n",
       "      <td>Dry</td>\n",
       "      <td>None</td>\n",
       "      <td>None</td>\n",
       "      <td>1</td>\n",
       "      <td>Yes</td>\n",
       "      <td>E01002909</td>\n",
       "      <td>2005</td>\n",
       "    </tr>\n",
       "    <tr>\n",
       "      <th>2</th>\n",
       "      <td>200501BS00003</td>\n",
       "      <td>524520.0</td>\n",
       "      <td>182240.0</td>\n",
       "      <td>-0.206458</td>\n",
       "      <td>51.525301</td>\n",
       "      <td>1</td>\n",
       "      <td>3</td>\n",
       "      <td>2</td>\n",
       "      <td>1</td>\n",
       "      <td>06/01/2005</td>\n",
       "      <td>...</td>\n",
       "      <td>No physical crossing within 50 meters</td>\n",
       "      <td>Darkness: Street lights present and lit</td>\n",
       "      <td>Fine without high winds</td>\n",
       "      <td>Dry</td>\n",
       "      <td>None</td>\n",
       "      <td>None</td>\n",
       "      <td>1</td>\n",
       "      <td>Yes</td>\n",
       "      <td>E01002857</td>\n",
       "      <td>2005</td>\n",
       "    </tr>\n",
       "    <tr>\n",
       "      <th>3</th>\n",
       "      <td>200501BS00004</td>\n",
       "      <td>526900.0</td>\n",
       "      <td>177530.0</td>\n",
       "      <td>-0.173862</td>\n",
       "      <td>51.482442</td>\n",
       "      <td>1</td>\n",
       "      <td>3</td>\n",
       "      <td>1</td>\n",
       "      <td>1</td>\n",
       "      <td>07/01/2005</td>\n",
       "      <td>...</td>\n",
       "      <td>No physical crossing within 50 meters</td>\n",
       "      <td>Daylight: Street light present</td>\n",
       "      <td>Fine without high winds</td>\n",
       "      <td>Dry</td>\n",
       "      <td>None</td>\n",
       "      <td>None</td>\n",
       "      <td>1</td>\n",
       "      <td>Yes</td>\n",
       "      <td>E01002840</td>\n",
       "      <td>2005</td>\n",
       "    </tr>\n",
       "    <tr>\n",
       "      <th>4</th>\n",
       "      <td>200501BS00005</td>\n",
       "      <td>528060.0</td>\n",
       "      <td>179040.0</td>\n",
       "      <td>-0.156618</td>\n",
       "      <td>51.495752</td>\n",
       "      <td>1</td>\n",
       "      <td>3</td>\n",
       "      <td>1</td>\n",
       "      <td>1</td>\n",
       "      <td>10/01/2005</td>\n",
       "      <td>...</td>\n",
       "      <td>No physical crossing within 50 meters</td>\n",
       "      <td>Darkness: Street lighting unknown</td>\n",
       "      <td>Fine without high winds</td>\n",
       "      <td>Wet/Damp</td>\n",
       "      <td>None</td>\n",
       "      <td>None</td>\n",
       "      <td>1</td>\n",
       "      <td>Yes</td>\n",
       "      <td>E01002863</td>\n",
       "      <td>2005</td>\n",
       "    </tr>\n",
       "  </tbody>\n",
       "</table>\n",
       "<p>5 rows × 33 columns</p>\n",
       "</div>"
      ],
      "text/plain": [
       "  Accident_Index  Location_Easting_OSGR  Location_Northing_OSGR  Longitude  \\\n",
       "0  200501BS00001               525680.0                178240.0  -0.191170   \n",
       "1  200501BS00002               524170.0                181650.0  -0.211708   \n",
       "2  200501BS00003               524520.0                182240.0  -0.206458   \n",
       "3  200501BS00004               526900.0                177530.0  -0.173862   \n",
       "4  200501BS00005               528060.0                179040.0  -0.156618   \n",
       "\n",
       "    Latitude  Police_Force  Accident_Severity  Number_of_Vehicles  \\\n",
       "0  51.489096             1                  2                   1   \n",
       "1  51.520075             1                  3                   1   \n",
       "2  51.525301             1                  3                   2   \n",
       "3  51.482442             1                  3                   1   \n",
       "4  51.495752             1                  3                   1   \n",
       "\n",
       "   Number_of_Casualties        Date  ...  \\\n",
       "0                     1  04/01/2005  ...   \n",
       "1                     1  05/01/2005  ...   \n",
       "2                     1  06/01/2005  ...   \n",
       "3                     1  07/01/2005  ...   \n",
       "4                     1  10/01/2005  ...   \n",
       "\n",
       "       Pedestrian_Crossing-Physical_Facilities  \\\n",
       "0                               Zebra crossing   \n",
       "1  Pedestrian phase at traffic signal junction   \n",
       "2        No physical crossing within 50 meters   \n",
       "3        No physical crossing within 50 meters   \n",
       "4        No physical crossing within 50 meters   \n",
       "\n",
       "                          Light_Conditions          Weather_Conditions  \\\n",
       "0           Daylight: Street light present  Raining without high winds   \n",
       "1  Darkness: Street lights present and lit     Fine without high winds   \n",
       "2  Darkness: Street lights present and lit     Fine without high winds   \n",
       "3           Daylight: Street light present     Fine without high winds   \n",
       "4        Darkness: Street lighting unknown     Fine without high winds   \n",
       "\n",
       "  Road_Surface_Conditions  Special_Conditions_at_Site  Carriageway_Hazards  \\\n",
       "0                Wet/Damp                        None                 None   \n",
       "1                     Dry                        None                 None   \n",
       "2                     Dry                        None                 None   \n",
       "3                     Dry                        None                 None   \n",
       "4                Wet/Damp                        None                 None   \n",
       "\n",
       "  Urban_or_Rural_Area  Did_Police_Officer_Attend_Scene_of_Accident  \\\n",
       "0                   1                                          Yes   \n",
       "1                   1                                          Yes   \n",
       "2                   1                                          Yes   \n",
       "3                   1                                          Yes   \n",
       "4                   1                                          Yes   \n",
       "\n",
       "   LSOA_of_Accident_Location  Year  \n",
       "0                  E01002849  2005  \n",
       "1                  E01002909  2005  \n",
       "2                  E01002857  2005  \n",
       "3                  E01002840  2005  \n",
       "4                  E01002863  2005  \n",
       "\n",
       "[5 rows x 33 columns]"
      ]
     },
     "execution_count": 7,
     "metadata": {},
     "output_type": "execute_result"
    }
   ],
   "source": [
    "df.head()"
   ]
  },
  {
   "cell_type": "code",
   "execution_count": 8,
   "id": "054f264d",
   "metadata": {},
   "outputs": [],
   "source": [
    "def ping_map(df, LSOA_of_Accident_Location, Year, zoom_start):\n",
    "    df_filtered = df[(df[\"LSOA_of_Accident_Location\"]==LSOA_of_Accident_Location)&(df[\"Year\"]==Year)]\n",
    "    location = (df_filtered[\"Latitude\"].mean(),df_filtered[\"Longitude\"].mean())\n",
    "    uk_map = folium.Map(location=location,zoom_start=zoom_start)\n",
    "    title_color = \"#B0E0E6\"\n",
    "    value_color = \"#F0F8FF\"\n",
    "    for index, row in df_filtered.iterrows():\n",
    "        if row.Accident_Severity == 1:\n",
    "            color = 'blue'\n",
    "        elif row.Accident_Severity == 2:\n",
    "            color = 'green'\n",
    "        else:\n",
    "            color = 'red'\n",
    "        html_page = f\"\"\"<!DOCTYPE html>\n",
    "                        <html>\n",
    "\n",
    "                        <head>\n",
    "                            <h2>Detailed Infomation of accident {row.Accident_Index}</h4>\n",
    "                        </head>\n",
    "                        <table style=\"height: 130px; width: 600px;\">\n",
    "                        <tbody>\n",
    "                        <tr>\n",
    "                        <td style=\"background-color: {title_color};\"><div style=\"text-align: center;\">Date</div></td>\n",
    "                        <td style=\"width: 300px;background-color: {value_color};\">{row.Date}</td>\n",
    "                        </tr>\n",
    "                        <tr>\n",
    "                        <td style=\"background-color: {title_color};\"><div style=\"text-align: center;\">Number of Vehicles</div></td>\n",
    "                        <td style=\"width: 300px;background-color: {value_color};\">{row.Number_of_Vehicles}</td>\n",
    "                        </tr>\n",
    "\n",
    "                        <tr>\n",
    "                        <td style=\"background-color: {title_color};\"><div style=\"text-align: center;\">Number of Casualties</div></td>\n",
    "                        <td style=\"width: 300px;background-color: {value_color};\">{row.Number_of_Casualties}</td>\n",
    "                        </tr>\n",
    "\n",
    "                        <tr>\n",
    "                        <td style=\"background-color: {title_color};\"><div style=\"text-align: center;\">Time</div></td>\n",
    "                        <td style=\"width: 300px;background-color: {value_color};\">{row.Time}</td>\n",
    "                        </tr>\n",
    "\n",
    "                        <tr>\n",
    "                        <td style=\"background-color: {title_color};\"><div style=\"text-align: center;\">Light Conditions</div></td>\n",
    "                        <td style=\"width: 300px;background-color: {value_color};\">{row.Light_Conditions}</td>\n",
    "                        </tr>\n",
    "\n",
    "                        <tr>\n",
    "                        <td style=\"background-color: {title_color};\"><div style=\"text-align: center;\">Weather Conditions</div></td>\n",
    "                        <td style=\"width: 300px;background-color: {value_color};\">{row.Weather_Conditions}</td>\n",
    "                        </tr>\n",
    "\n",
    "                        <tr>\n",
    "                        <td style=\"background-color: {title_color};width: 300px\"><div style=\"text-align: center;\">Road Surface Conditions</div></td>\n",
    "                        <td style=\"width: 300px;background-color: {value_color};\">{row.Road_Surface_Conditions}</td>\n",
    "                        </tr>\n",
    "\n",
    "                        <tr>\n",
    "                        <td style=\"background-color: {title_color};width: 300px\"><div style=\"text-align: center;\">Road Type</div></td>\n",
    "                        <td style=\"width: 300px;background-color: {value_color};\">{row.Road_Type}</td>\n",
    "                        </tr>\n",
    "\n",
    "                        </tbody>\n",
    "                        </table>\n",
    "                        </html>\n",
    "                        \"\"\"\n",
    "        iframe = branca.element.IFrame(html=html_page,width=600,height=300)\n",
    "        popup = folium.Popup(iframe, parse_html=True) \n",
    "        folium.Marker([row.Latitude, row.Longitude],popup=popup, icon=folium.Icon(color=color, icon=\"remove-sign\")).add_to(uk_map)\n",
    "    return uk_map"
   ]
  },
  {
   "cell_type": "code",
   "execution_count": 21,
   "id": "41d826be",
   "metadata": {
    "scrolled": false
   },
   "outputs": [],
   "source": [
    "LSOA_of_Accident_Location = \"E01002849\"\n",
    "Year = 2005\n",
    "zoom_start = 15\n",
    "uk_map = ping_map(df,LSOA_of_Accident_Location,Year,zoom_start)"
   ]
  },
  {
   "cell_type": "code",
   "execution_count": 22,
   "id": "08c03dde",
   "metadata": {
    "scrolled": false
   },
   "outputs": [
    {
     "data": {
      "text/html": [
       "<div style=\"width:100%;\"><div style=\"position:relative;width:100%;height:0;padding-bottom:60%;\"><span style=\"color:#565656\">Make this Notebook Trusted to load map: File -> Trust Notebook</span><iframe src=\"about:blank\" style=\"position:absolute;width:100%;height:100%;left:0;top:0;border:none !important;\" data-html=%3C%21DOCTYPE%20html%3E%0A%3Chead%3E%20%20%20%20%0A%20%20%20%20%3Cmeta%20http-equiv%3D%22content-type%22%20content%3D%22text/html%3B%20charset%3DUTF-8%22%20/%3E%0A%20%20%20%20%0A%20%20%20%20%20%20%20%20%3Cscript%3E%0A%20%20%20%20%20%20%20%20%20%20%20%20L_NO_TOUCH%20%3D%20false%3B%0A%20%20%20%20%20%20%20%20%20%20%20%20L_DISABLE_3D%20%3D%20false%3B%0A%20%20%20%20%20%20%20%20%3C/script%3E%0A%20%20%20%20%0A%20%20%20%20%3Cstyle%3Ehtml%2C%20body%20%7Bwidth%3A%20100%25%3Bheight%3A%20100%25%3Bmargin%3A%200%3Bpadding%3A%200%3B%7D%3C/style%3E%0A%20%20%20%20%3Cstyle%3E%23map%20%7Bposition%3Aabsolute%3Btop%3A0%3Bbottom%3A0%3Bright%3A0%3Bleft%3A0%3B%7D%3C/style%3E%0A%20%20%20%20%3Cscript%20src%3D%22https%3A//cdn.jsdelivr.net/npm/leaflet%401.6.0/dist/leaflet.js%22%3E%3C/script%3E%0A%20%20%20%20%3Cscript%20src%3D%22https%3A//code.jquery.com/jquery-1.12.4.min.js%22%3E%3C/script%3E%0A%20%20%20%20%3Cscript%20src%3D%22https%3A//maxcdn.bootstrapcdn.com/bootstrap/3.2.0/js/bootstrap.min.js%22%3E%3C/script%3E%0A%20%20%20%20%3Cscript%20src%3D%22https%3A//cdnjs.cloudflare.com/ajax/libs/Leaflet.awesome-markers/2.0.2/leaflet.awesome-markers.js%22%3E%3C/script%3E%0A%20%20%20%20%3Clink%20rel%3D%22stylesheet%22%20href%3D%22https%3A//cdn.jsdelivr.net/npm/leaflet%401.6.0/dist/leaflet.css%22/%3E%0A%20%20%20%20%3Clink%20rel%3D%22stylesheet%22%20href%3D%22https%3A//maxcdn.bootstrapcdn.com/bootstrap/3.2.0/css/bootstrap.min.css%22/%3E%0A%20%20%20%20%3Clink%20rel%3D%22stylesheet%22%20href%3D%22https%3A//maxcdn.bootstrapcdn.com/bootstrap/3.2.0/css/bootstrap-theme.min.css%22/%3E%0A%20%20%20%20%3Clink%20rel%3D%22stylesheet%22%20href%3D%22https%3A//maxcdn.bootstrapcdn.com/font-awesome/4.6.3/css/font-awesome.min.css%22/%3E%0A%20%20%20%20%3Clink%20rel%3D%22stylesheet%22%20href%3D%22https%3A//cdnjs.cloudflare.com/ajax/libs/Leaflet.awesome-markers/2.0.2/leaflet.awesome-markers.css%22/%3E%0A%20%20%20%20%3Clink%20rel%3D%22stylesheet%22%20href%3D%22https%3A//cdn.jsdelivr.net/gh/python-visualization/folium/folium/templates/leaflet.awesome.rotate.min.css%22/%3E%0A%20%20%20%20%0A%20%20%20%20%20%20%20%20%20%20%20%20%3Cmeta%20name%3D%22viewport%22%20content%3D%22width%3Ddevice-width%2C%0A%20%20%20%20%20%20%20%20%20%20%20%20%20%20%20%20initial-scale%3D1.0%2C%20maximum-scale%3D1.0%2C%20user-scalable%3Dno%22%20/%3E%0A%20%20%20%20%20%20%20%20%20%20%20%20%3Cstyle%3E%0A%20%20%20%20%20%20%20%20%20%20%20%20%20%20%20%20%23map_75fd2d2f71c54ce2a9e39e21ce78aa24%20%7B%0A%20%20%20%20%20%20%20%20%20%20%20%20%20%20%20%20%20%20%20%20position%3A%20relative%3B%0A%20%20%20%20%20%20%20%20%20%20%20%20%20%20%20%20%20%20%20%20width%3A%20100.0%25%3B%0A%20%20%20%20%20%20%20%20%20%20%20%20%20%20%20%20%20%20%20%20height%3A%20100.0%25%3B%0A%20%20%20%20%20%20%20%20%20%20%20%20%20%20%20%20%20%20%20%20left%3A%200.0%25%3B%0A%20%20%20%20%20%20%20%20%20%20%20%20%20%20%20%20%20%20%20%20top%3A%200.0%25%3B%0A%20%20%20%20%20%20%20%20%20%20%20%20%20%20%20%20%7D%0A%20%20%20%20%20%20%20%20%20%20%20%20%3C/style%3E%0A%20%20%20%20%20%20%20%20%0A%3C/head%3E%0A%3Cbody%3E%20%20%20%20%0A%20%20%20%20%0A%20%20%20%20%20%20%20%20%20%20%20%20%3Cdiv%20class%3D%22folium-map%22%20id%3D%22map_75fd2d2f71c54ce2a9e39e21ce78aa24%22%20%3E%3C/div%3E%0A%20%20%20%20%20%20%20%20%0A%3C/body%3E%0A%3Cscript%3E%20%20%20%20%0A%20%20%20%20%0A%20%20%20%20%20%20%20%20%20%20%20%20var%20map_75fd2d2f71c54ce2a9e39e21ce78aa24%20%3D%20L.map%28%0A%20%20%20%20%20%20%20%20%20%20%20%20%20%20%20%20%22map_75fd2d2f71c54ce2a9e39e21ce78aa24%22%2C%0A%20%20%20%20%20%20%20%20%20%20%20%20%20%20%20%20%7B%0A%20%20%20%20%20%20%20%20%20%20%20%20%20%20%20%20%20%20%20%20center%3A%20%5B51.490235%2C%20-0.19182911111111112%5D%2C%0A%20%20%20%20%20%20%20%20%20%20%20%20%20%20%20%20%20%20%20%20crs%3A%20L.CRS.EPSG3857%2C%0A%20%20%20%20%20%20%20%20%20%20%20%20%20%20%20%20%20%20%20%20zoom%3A%2015%2C%0A%20%20%20%20%20%20%20%20%20%20%20%20%20%20%20%20%20%20%20%20zoomControl%3A%20true%2C%0A%20%20%20%20%20%20%20%20%20%20%20%20%20%20%20%20%20%20%20%20preferCanvas%3A%20false%2C%0A%20%20%20%20%20%20%20%20%20%20%20%20%20%20%20%20%7D%0A%20%20%20%20%20%20%20%20%20%20%20%20%29%3B%0A%0A%20%20%20%20%20%20%20%20%20%20%20%20%0A%0A%20%20%20%20%20%20%20%20%0A%20%20%20%20%0A%20%20%20%20%20%20%20%20%20%20%20%20var%20tile_layer_75fe0b68859f47d3b4bc68a9c2333ebd%20%3D%20L.tileLayer%28%0A%20%20%20%20%20%20%20%20%20%20%20%20%20%20%20%20%22https%3A//%7Bs%7D.tile.openstreetmap.org/%7Bz%7D/%7Bx%7D/%7By%7D.png%22%2C%0A%20%20%20%20%20%20%20%20%20%20%20%20%20%20%20%20%7B%22attribution%22%3A%20%22Data%20by%20%5Cu0026copy%3B%20%5Cu003ca%20href%3D%5C%22http%3A//openstreetmap.org%5C%22%5Cu003eOpenStreetMap%5Cu003c/a%5Cu003e%2C%20under%20%5Cu003ca%20href%3D%5C%22http%3A//www.openstreetmap.org/copyright%5C%22%5Cu003eODbL%5Cu003c/a%5Cu003e.%22%2C%20%22detectRetina%22%3A%20false%2C%20%22maxNativeZoom%22%3A%2018%2C%20%22maxZoom%22%3A%2018%2C%20%22minZoom%22%3A%200%2C%20%22noWrap%22%3A%20false%2C%20%22opacity%22%3A%201%2C%20%22subdomains%22%3A%20%22abc%22%2C%20%22tms%22%3A%20false%7D%0A%20%20%20%20%20%20%20%20%20%20%20%20%29.addTo%28map_75fd2d2f71c54ce2a9e39e21ce78aa24%29%3B%0A%20%20%20%20%20%20%20%20%0A%20%20%20%20%0A%20%20%20%20%20%20%20%20%20%20%20%20var%20marker_b0fcd85c44a7444496979e792a176e8f%20%3D%20L.marker%28%0A%20%20%20%20%20%20%20%20%20%20%20%20%20%20%20%20%5B51.489096%2C%20-0.19117%5D%2C%0A%20%20%20%20%20%20%20%20%20%20%20%20%20%20%20%20%7B%7D%0A%20%20%20%20%20%20%20%20%20%20%20%20%29.addTo%28map_75fd2d2f71c54ce2a9e39e21ce78aa24%29%3B%0A%20%20%20%20%20%20%20%20%0A%20%20%20%20%0A%20%20%20%20%20%20%20%20%20%20%20%20var%20icon_e62f29c9d7954ea7bdff86664f5f0af1%20%3D%20L.AwesomeMarkers.icon%28%0A%20%20%20%20%20%20%20%20%20%20%20%20%20%20%20%20%7B%22extraClasses%22%3A%20%22fa-rotate-0%22%2C%20%22icon%22%3A%20%22remove-sign%22%2C%20%22iconColor%22%3A%20%22white%22%2C%20%22markerColor%22%3A%20%22green%22%2C%20%22prefix%22%3A%20%22glyphicon%22%7D%0A%20%20%20%20%20%20%20%20%20%20%20%20%29%3B%0A%20%20%20%20%20%20%20%20%20%20%20%20marker_b0fcd85c44a7444496979e792a176e8f.setIcon%28icon_e62f29c9d7954ea7bdff86664f5f0af1%29%3B%0A%20%20%20%20%20%20%20%20%0A%20%20%20%20%0A%20%20%20%20%20%20%20%20var%20popup_fb69760d1a4d4a74bf61a1918d022450%20%3D%20L.popup%28%7B%22maxWidth%22%3A%20%22100%25%22%7D%29%3B%0A%0A%20%20%20%20%20%20%20%20%0A%20%20%20%20%20%20%20%20%20%20%20%20var%20i_frame_83f32ca583d24781861865adc40337ac%20%3D%20%24%28%60%3Ciframe%20src%3D%22data%3Atext/html%3Bcharset%3Dutf-8%3Bbase64%2CCiAgICA8IURPQ1RZUEUgaHRtbD4KICAgICAgICAgICAgICAgICAgICAgICAgPGh0bWw%2BCgogICAgICAgICAgICAgICAgICAgICAgICA8aGVhZD4KICAgICAgICAgICAgICAgICAgICAgICAgICAgIDxoMj5EZXRhaWxlZCBJbmZvbWF0aW9uIG9mIGFjY2lkZW50IDIwMDUwMUJTMDAwMDE8L2g0PgogICAgICAgICAgICAgICAgICAgICAgICA8L2hlYWQ%2BCiAgICAgICAgICAgICAgICAgICAgICAgIDx0YWJsZSBzdHlsZT0iaGVpZ2h0OiAxMzBweDsgd2lkdGg6IDYwMHB4OyI%2BCiAgICAgICAgICAgICAgICAgICAgICAgIDx0Ym9keT4KICAgICAgICAgICAgICAgICAgICAgICAgPHRyPgogICAgICAgICAgICAgICAgICAgICAgICA8dGQgc3R5bGU9ImJhY2tncm91bmQtY29sb3I6ICNCMEUwRTY7Ij48ZGl2IHN0eWxlPSJ0ZXh0LWFsaWduOiBjZW50ZXI7Ij5EYXRlPC9kaXY%2BPC90ZD4KICAgICAgICAgICAgICAgICAgICAgICAgPHRkIHN0eWxlPSJ3aWR0aDogMzAwcHg7YmFja2dyb3VuZC1jb2xvcjogI0YwRjhGRjsiPjA0LzAxLzIwMDU8L3RkPgogICAgICAgICAgICAgICAgICAgICAgICA8L3RyPgogICAgICAgICAgICAgICAgICAgICAgICA8dHI%2BCiAgICAgICAgICAgICAgICAgICAgICAgIDx0ZCBzdHlsZT0iYmFja2dyb3VuZC1jb2xvcjogI0IwRTBFNjsiPjxkaXYgc3R5bGU9InRleHQtYWxpZ246IGNlbnRlcjsiPk51bWJlciBvZiBWZWhpY2xlczwvZGl2PjwvdGQ%2BCiAgICAgICAgICAgICAgICAgICAgICAgIDx0ZCBzdHlsZT0id2lkdGg6IDMwMHB4O2JhY2tncm91bmQtY29sb3I6ICNGMEY4RkY7Ij4xPC90ZD4KICAgICAgICAgICAgICAgICAgICAgICAgPC90cj4KCiAgICAgICAgICAgICAgICAgICAgICAgIDx0cj4KICAgICAgICAgICAgICAgICAgICAgICAgPHRkIHN0eWxlPSJiYWNrZ3JvdW5kLWNvbG9yOiAjQjBFMEU2OyI%2BPGRpdiBzdHlsZT0idGV4dC1hbGlnbjogY2VudGVyOyI%2BTnVtYmVyIG9mIENhc3VhbHRpZXM8L2Rpdj48L3RkPgogICAgICAgICAgICAgICAgICAgICAgICA8dGQgc3R5bGU9IndpZHRoOiAzMDBweDtiYWNrZ3JvdW5kLWNvbG9yOiAjRjBGOEZGOyI%2BMTwvdGQ%2BCiAgICAgICAgICAgICAgICAgICAgICAgIDwvdHI%2BCgogICAgICAgICAgICAgICAgICAgICAgICA8dHI%2BCiAgICAgICAgICAgICAgICAgICAgICAgIDx0ZCBzdHlsZT0iYmFja2dyb3VuZC1jb2xvcjogI0IwRTBFNjsiPjxkaXYgc3R5bGU9InRleHQtYWxpZ246IGNlbnRlcjsiPlRpbWU8L2Rpdj48L3RkPgogICAgICAgICAgICAgICAgICAgICAgICA8dGQgc3R5bGU9IndpZHRoOiAzMDBweDtiYWNrZ3JvdW5kLWNvbG9yOiAjRjBGOEZGOyI%2BMTc6NDI8L3RkPgogICAgICAgICAgICAgICAgICAgICAgICA8L3RyPgoKICAgICAgICAgICAgICAgICAgICAgICAgPHRyPgogICAgICAgICAgICAgICAgICAgICAgICA8dGQgc3R5bGU9ImJhY2tncm91bmQtY29sb3I6ICNCMEUwRTY7Ij48ZGl2IHN0eWxlPSJ0ZXh0LWFsaWduOiBjZW50ZXI7Ij5MaWdodCBDb25kaXRpb25zPC9kaXY%2BPC90ZD4KICAgICAgICAgICAgICAgICAgICAgICAgPHRkIHN0eWxlPSJ3aWR0aDogMzAwcHg7YmFja2dyb3VuZC1jb2xvcjogI0YwRjhGRjsiPkRheWxpZ2h0OiBTdHJlZXQgbGlnaHQgcHJlc2VudDwvdGQ%2BCiAgICAgICAgICAgICAgICAgICAgICAgIDwvdHI%2BCgogICAgICAgICAgICAgICAgICAgICAgICA8dHI%2BCiAgICAgICAgICAgICAgICAgICAgICAgIDx0ZCBzdHlsZT0iYmFja2dyb3VuZC1jb2xvcjogI0IwRTBFNjsiPjxkaXYgc3R5bGU9InRleHQtYWxpZ246IGNlbnRlcjsiPldlYXRoZXIgQ29uZGl0aW9uczwvZGl2PjwvdGQ%2BCiAgICAgICAgICAgICAgICAgICAgICAgIDx0ZCBzdHlsZT0id2lkdGg6IDMwMHB4O2JhY2tncm91bmQtY29sb3I6ICNGMEY4RkY7Ij5SYWluaW5nIHdpdGhvdXQgaGlnaCB3aW5kczwvdGQ%2BCiAgICAgICAgICAgICAgICAgICAgICAgIDwvdHI%2BCgogICAgICAgICAgICAgICAgICAgICAgICA8dHI%2BCiAgICAgICAgICAgICAgICAgICAgICAgIDx0ZCBzdHlsZT0iYmFja2dyb3VuZC1jb2xvcjogI0IwRTBFNjt3aWR0aDogMzAwcHgiPjxkaXYgc3R5bGU9InRleHQtYWxpZ246IGNlbnRlcjsiPlJvYWQgU3VyZmFjZSBDb25kaXRpb25zPC9kaXY%2BPC90ZD4KICAgICAgICAgICAgICAgICAgICAgICAgPHRkIHN0eWxlPSJ3aWR0aDogMzAwcHg7YmFja2dyb3VuZC1jb2xvcjogI0YwRjhGRjsiPldldC9EYW1wPC90ZD4KICAgICAgICAgICAgICAgICAgICAgICAgPC90cj4KCiAgICAgICAgICAgICAgICAgICAgICAgIDx0cj4KICAgICAgICAgICAgICAgICAgICAgICAgPHRkIHN0eWxlPSJiYWNrZ3JvdW5kLWNvbG9yOiAjQjBFMEU2O3dpZHRoOiAzMDBweCI%2BPGRpdiBzdHlsZT0idGV4dC1hbGlnbjogY2VudGVyOyI%2BUm9hZCBUeXBlPC9kaXY%2BPC90ZD4KICAgICAgICAgICAgICAgICAgICAgICAgPHRkIHN0eWxlPSJ3aWR0aDogMzAwcHg7YmFja2dyb3VuZC1jb2xvcjogI0YwRjhGRjsiPlNpbmdsZSBjYXJyaWFnZXdheTwvdGQ%2BCiAgICAgICAgICAgICAgICAgICAgICAgIDwvdHI%2BCgogICAgICAgICAgICAgICAgICAgICAgICA8L3Rib2R5PgogICAgICAgICAgICAgICAgICAgICAgICA8L3RhYmxlPgogICAgICAgICAgICAgICAgICAgICAgICA8L2h0bWw%2BCiAgICAgICAgICAgICAgICAgICAgICAgIA%3D%3D%22%20width%3D%22600%22%20style%3D%22border%3Anone%20%21important%3B%22%20height%3D%22300%22%3E%3C/iframe%3E%60%29%5B0%5D%3B%0A%20%20%20%20%20%20%20%20%20%20%20%20popup_fb69760d1a4d4a74bf61a1918d022450.setContent%28i_frame_83f32ca583d24781861865adc40337ac%29%3B%0A%20%20%20%20%20%20%20%20%0A%0A%20%20%20%20%20%20%20%20marker_b0fcd85c44a7444496979e792a176e8f.bindPopup%28popup_fb69760d1a4d4a74bf61a1918d022450%29%0A%20%20%20%20%20%20%20%20%3B%0A%0A%20%20%20%20%20%20%20%20%0A%20%20%20%20%0A%20%20%20%20%0A%20%20%20%20%20%20%20%20%20%20%20%20var%20marker_2c613d2a74e84c4cb11742d14dbaf308%20%3D%20L.marker%28%0A%20%20%20%20%20%20%20%20%20%20%20%20%20%20%20%20%5B51.491632%2C%20-0.192366%5D%2C%0A%20%20%20%20%20%20%20%20%20%20%20%20%20%20%20%20%7B%7D%0A%20%20%20%20%20%20%20%20%20%20%20%20%29.addTo%28map_75fd2d2f71c54ce2a9e39e21ce78aa24%29%3B%0A%20%20%20%20%20%20%20%20%0A%20%20%20%20%0A%20%20%20%20%20%20%20%20%20%20%20%20var%20icon_a5d3140e7a4442e69558979682894c93%20%3D%20L.AwesomeMarkers.icon%28%0A%20%20%20%20%20%20%20%20%20%20%20%20%20%20%20%20%7B%22extraClasses%22%3A%20%22fa-rotate-0%22%2C%20%22icon%22%3A%20%22remove-sign%22%2C%20%22iconColor%22%3A%20%22white%22%2C%20%22markerColor%22%3A%20%22red%22%2C%20%22prefix%22%3A%20%22glyphicon%22%7D%0A%20%20%20%20%20%20%20%20%20%20%20%20%29%3B%0A%20%20%20%20%20%20%20%20%20%20%20%20marker_2c613d2a74e84c4cb11742d14dbaf308.setIcon%28icon_a5d3140e7a4442e69558979682894c93%29%3B%0A%20%20%20%20%20%20%20%20%0A%20%20%20%20%0A%20%20%20%20%20%20%20%20var%20popup_fce6be3d689c43dbb3466d3faa94d4a2%20%3D%20L.popup%28%7B%22maxWidth%22%3A%20%22100%25%22%7D%29%3B%0A%0A%20%20%20%20%20%20%20%20%0A%20%20%20%20%20%20%20%20%20%20%20%20var%20i_frame_af6cca87de674d918d913d444c117700%20%3D%20%24%28%60%3Ciframe%20src%3D%22data%3Atext/html%3Bcharset%3Dutf-8%3Bbase64%2CCiAgICA8IURPQ1RZUEUgaHRtbD4KICAgICAgICAgICAgICAgICAgICAgICAgPGh0bWw%2BCgogICAgICAgICAgICAgICAgICAgICAgICA8aGVhZD4KICAgICAgICAgICAgICAgICAgICAgICAgICAgIDxoMj5EZXRhaWxlZCBJbmZvbWF0aW9uIG9mIGFjY2lkZW50IDIwMDUwMUJTMDAwMTU8L2g0PgogICAgICAgICAgICAgICAgICAgICAgICA8L2hlYWQ%2BCiAgICAgICAgICAgICAgICAgICAgICAgIDx0YWJsZSBzdHlsZT0iaGVpZ2h0OiAxMzBweDsgd2lkdGg6IDYwMHB4OyI%2BCiAgICAgICAgICAgICAgICAgICAgICAgIDx0Ym9keT4KICAgICAgICAgICAgICAgICAgICAgICAgPHRyPgogICAgICAgICAgICAgICAgICAgICAgICA8dGQgc3R5bGU9ImJhY2tncm91bmQtY29sb3I6ICNCMEUwRTY7Ij48ZGl2IHN0eWxlPSJ0ZXh0LWFsaWduOiBjZW50ZXI7Ij5EYXRlPC9kaXY%2BPC90ZD4KICAgICAgICAgICAgICAgICAgICAgICAgPHRkIHN0eWxlPSJ3aWR0aDogMzAwcHg7YmFja2dyb3VuZC1jb2xvcjogI0YwRjhGRjsiPjExLzAxLzIwMDU8L3RkPgogICAgICAgICAgICAgICAgICAgICAgICA8L3RyPgogICAgICAgICAgICAgICAgICAgICAgICA8dHI%2BCiAgICAgICAgICAgICAgICAgICAgICAgIDx0ZCBzdHlsZT0iYmFja2dyb3VuZC1jb2xvcjogI0IwRTBFNjsiPjxkaXYgc3R5bGU9InRleHQtYWxpZ246IGNlbnRlcjsiPk51bWJlciBvZiBWZWhpY2xlczwvZGl2PjwvdGQ%2BCiAgICAgICAgICAgICAgICAgICAgICAgIDx0ZCBzdHlsZT0id2lkdGg6IDMwMHB4O2JhY2tncm91bmQtY29sb3I6ICNGMEY4RkY7Ij4xPC90ZD4KICAgICAgICAgICAgICAgICAgICAgICAgPC90cj4KCiAgICAgICAgICAgICAgICAgICAgICAgIDx0cj4KICAgICAgICAgICAgICAgICAgICAgICAgPHRkIHN0eWxlPSJiYWNrZ3JvdW5kLWNvbG9yOiAjQjBFMEU2OyI%2BPGRpdiBzdHlsZT0idGV4dC1hbGlnbjogY2VudGVyOyI%2BTnVtYmVyIG9mIENhc3VhbHRpZXM8L2Rpdj48L3RkPgogICAgICAgICAgICAgICAgICAgICAgICA8dGQgc3R5bGU9IndpZHRoOiAzMDBweDtiYWNrZ3JvdW5kLWNvbG9yOiAjRjBGOEZGOyI%2BMTwvdGQ%2BCiAgICAgICAgICAgICAgICAgICAgICAgIDwvdHI%2BCgogICAgICAgICAgICAgICAgICAgICAgICA8dHI%2BCiAgICAgICAgICAgICAgICAgICAgICAgIDx0ZCBzdHlsZT0iYmFja2dyb3VuZC1jb2xvcjogI0IwRTBFNjsiPjxkaXYgc3R5bGU9InRleHQtYWxpZ246IGNlbnRlcjsiPlRpbWU8L2Rpdj48L3RkPgogICAgICAgICAgICAgICAgICAgICAgICA8dGQgc3R5bGU9IndpZHRoOiAzMDBweDtiYWNrZ3JvdW5kLWNvbG9yOiAjRjBGOEZGOyI%2BMTI6NTU8L3RkPgogICAgICAgICAgICAgICAgICAgICAgICA8L3RyPgoKICAgICAgICAgICAgICAgICAgICAgICAgPHRyPgogICAgICAgICAgICAgICAgICAgICAgICA8dGQgc3R5bGU9ImJhY2tncm91bmQtY29sb3I6ICNCMEUwRTY7Ij48ZGl2IHN0eWxlPSJ0ZXh0LWFsaWduOiBjZW50ZXI7Ij5MaWdodCBDb25kaXRpb25zPC9kaXY%2BPC90ZD4KICAgICAgICAgICAgICAgICAgICAgICAgPHRkIHN0eWxlPSJ3aWR0aDogMzAwcHg7YmFja2dyb3VuZC1jb2xvcjogI0YwRjhGRjsiPkRheWxpZ2h0OiBTdHJlZXQgbGlnaHQgcHJlc2VudDwvdGQ%2BCiAgICAgICAgICAgICAgICAgICAgICAgIDwvdHI%2BCgogICAgICAgICAgICAgICAgICAgICAgICA8dHI%2BCiAgICAgICAgICAgICAgICAgICAgICAgIDx0ZCBzdHlsZT0iYmFja2dyb3VuZC1jb2xvcjogI0IwRTBFNjsiPjxkaXYgc3R5bGU9InRleHQtYWxpZ246IGNlbnRlcjsiPldlYXRoZXIgQ29uZGl0aW9uczwvZGl2PjwvdGQ%2BCiAgICAgICAgICAgICAgICAgICAgICAgIDx0ZCBzdHlsZT0id2lkdGg6IDMwMHB4O2JhY2tncm91bmQtY29sb3I6ICNGMEY4RkY7Ij5SYWluaW5nIHdpdGhvdXQgaGlnaCB3aW5kczwvdGQ%2BCiAgICAgICAgICAgICAgICAgICAgICAgIDwvdHI%2BCgogICAgICAgICAgICAgICAgICAgICAgICA8dHI%2BCiAgICAgICAgICAgICAgICAgICAgICAgIDx0ZCBzdHlsZT0iYmFja2dyb3VuZC1jb2xvcjogI0IwRTBFNjt3aWR0aDogMzAwcHgiPjxkaXYgc3R5bGU9InRleHQtYWxpZ246IGNlbnRlcjsiPlJvYWQgU3VyZmFjZSBDb25kaXRpb25zPC9kaXY%2BPC90ZD4KICAgICAgICAgICAgICAgICAgICAgICAgPHRkIHN0eWxlPSJ3aWR0aDogMzAwcHg7YmFja2dyb3VuZC1jb2xvcjogI0YwRjhGRjsiPldldC9EYW1wPC90ZD4KICAgICAgICAgICAgICAgICAgICAgICAgPC90cj4KCiAgICAgICAgICAgICAgICAgICAgICAgIDx0cj4KICAgICAgICAgICAgICAgICAgICAgICAgPHRkIHN0eWxlPSJiYWNrZ3JvdW5kLWNvbG9yOiAjQjBFMEU2O3dpZHRoOiAzMDBweCI%2BPGRpdiBzdHlsZT0idGV4dC1hbGlnbjogY2VudGVyOyI%2BUm9hZCBUeXBlPC9kaXY%2BPC90ZD4KICAgICAgICAgICAgICAgICAgICAgICAgPHRkIHN0eWxlPSJ3aWR0aDogMzAwcHg7YmFja2dyb3VuZC1jb2xvcjogI0YwRjhGRjsiPk9uZSB3YXkgc3RyZWV0PC90ZD4KICAgICAgICAgICAgICAgICAgICAgICAgPC90cj4KCiAgICAgICAgICAgICAgICAgICAgICAgIDwvdGJvZHk%2BCiAgICAgICAgICAgICAgICAgICAgICAgIDwvdGFibGU%2BCiAgICAgICAgICAgICAgICAgICAgICAgIDwvaHRtbD4KICAgICAgICAgICAgICAgICAgICAgICAg%22%20width%3D%22600%22%20style%3D%22border%3Anone%20%21important%3B%22%20height%3D%22300%22%3E%3C/iframe%3E%60%29%5B0%5D%3B%0A%20%20%20%20%20%20%20%20%20%20%20%20popup_fce6be3d689c43dbb3466d3faa94d4a2.setContent%28i_frame_af6cca87de674d918d913d444c117700%29%3B%0A%20%20%20%20%20%20%20%20%0A%0A%20%20%20%20%20%20%20%20marker_2c613d2a74e84c4cb11742d14dbaf308.bindPopup%28popup_fce6be3d689c43dbb3466d3faa94d4a2%29%0A%20%20%20%20%20%20%20%20%3B%0A%0A%20%20%20%20%20%20%20%20%0A%20%20%20%20%0A%20%20%20%20%0A%20%20%20%20%20%20%20%20%20%20%20%20var%20marker_014cb68973e8449786beace5aec74629%20%3D%20L.marker%28%0A%20%20%20%20%20%20%20%20%20%20%20%20%20%20%20%20%5B51.488671%2C%20-0.192771%5D%2C%0A%20%20%20%20%20%20%20%20%20%20%20%20%20%20%20%20%7B%7D%0A%20%20%20%20%20%20%20%20%20%20%20%20%29.addTo%28map_75fd2d2f71c54ce2a9e39e21ce78aa24%29%3B%0A%20%20%20%20%20%20%20%20%0A%20%20%20%20%0A%20%20%20%20%20%20%20%20%20%20%20%20var%20icon_b7816a85b5874d3c84c5f4a74f97f526%20%3D%20L.AwesomeMarkers.icon%28%0A%20%20%20%20%20%20%20%20%20%20%20%20%20%20%20%20%7B%22extraClasses%22%3A%20%22fa-rotate-0%22%2C%20%22icon%22%3A%20%22remove-sign%22%2C%20%22iconColor%22%3A%20%22white%22%2C%20%22markerColor%22%3A%20%22red%22%2C%20%22prefix%22%3A%20%22glyphicon%22%7D%0A%20%20%20%20%20%20%20%20%20%20%20%20%29%3B%0A%20%20%20%20%20%20%20%20%20%20%20%20marker_014cb68973e8449786beace5aec74629.setIcon%28icon_b7816a85b5874d3c84c5f4a74f97f526%29%3B%0A%20%20%20%20%20%20%20%20%0A%20%20%20%20%0A%20%20%20%20%20%20%20%20var%20popup_78dc23665aa641fdaadd30d159b315c8%20%3D%20L.popup%28%7B%22maxWidth%22%3A%20%22100%25%22%7D%29%3B%0A%0A%20%20%20%20%20%20%20%20%0A%20%20%20%20%20%20%20%20%20%20%20%20var%20i_frame_1c3f4d9d858d4bc8991788e70e9a853d%20%3D%20%24%28%60%3Ciframe%20src%3D%22data%3Atext/html%3Bcharset%3Dutf-8%3Bbase64%2CCiAgICA8IURPQ1RZUEUgaHRtbD4KICAgICAgICAgICAgICAgICAgICAgICAgPGh0bWw%2BCgogICAgICAgICAgICAgICAgICAgICAgICA8aGVhZD4KICAgICAgICAgICAgICAgICAgICAgICAgICAgIDxoMj5EZXRhaWxlZCBJbmZvbWF0aW9uIG9mIGFjY2lkZW50IDIwMDUwMUJTMDAwMzM8L2g0PgogICAgICAgICAgICAgICAgICAgICAgICA8L2hlYWQ%2BCiAgICAgICAgICAgICAgICAgICAgICAgIDx0YWJsZSBzdHlsZT0iaGVpZ2h0OiAxMzBweDsgd2lkdGg6IDYwMHB4OyI%2BCiAgICAgICAgICAgICAgICAgICAgICAgIDx0Ym9keT4KICAgICAgICAgICAgICAgICAgICAgICAgPHRyPgogICAgICAgICAgICAgICAgICAgICAgICA8dGQgc3R5bGU9ImJhY2tncm91bmQtY29sb3I6ICNCMEUwRTY7Ij48ZGl2IHN0eWxlPSJ0ZXh0LWFsaWduOiBjZW50ZXI7Ij5EYXRlPC9kaXY%2BPC90ZD4KICAgICAgICAgICAgICAgICAgICAgICAgPHRkIHN0eWxlPSJ3aWR0aDogMzAwcHg7YmFja2dyb3VuZC1jb2xvcjogI0YwRjhGRjsiPjI5LzAxLzIwMDU8L3RkPgogICAgICAgICAgICAgICAgICAgICAgICA8L3RyPgogICAgICAgICAgICAgICAgICAgICAgICA8dHI%2BCiAgICAgICAgICAgICAgICAgICAgICAgIDx0ZCBzdHlsZT0iYmFja2dyb3VuZC1jb2xvcjogI0IwRTBFNjsiPjxkaXYgc3R5bGU9InRleHQtYWxpZ246IGNlbnRlcjsiPk51bWJlciBvZiBWZWhpY2xlczwvZGl2PjwvdGQ%2BCiAgICAgICAgICAgICAgICAgICAgICAgIDx0ZCBzdHlsZT0id2lkdGg6IDMwMHB4O2JhY2tncm91bmQtY29sb3I6ICNGMEY4RkY7Ij4yPC90ZD4KICAgICAgICAgICAgICAgICAgICAgICAgPC90cj4KCiAgICAgICAgICAgICAgICAgICAgICAgIDx0cj4KICAgICAgICAgICAgICAgICAgICAgICAgPHRkIHN0eWxlPSJiYWNrZ3JvdW5kLWNvbG9yOiAjQjBFMEU2OyI%2BPGRpdiBzdHlsZT0idGV4dC1hbGlnbjogY2VudGVyOyI%2BTnVtYmVyIG9mIENhc3VhbHRpZXM8L2Rpdj48L3RkPgogICAgICAgICAgICAgICAgICAgICAgICA8dGQgc3R5bGU9IndpZHRoOiAzMDBweDtiYWNrZ3JvdW5kLWNvbG9yOiAjRjBGOEZGOyI%2BMjwvdGQ%2BCiAgICAgICAgICAgICAgICAgICAgICAgIDwvdHI%2BCgogICAgICAgICAgICAgICAgICAgICAgICA8dHI%2BCiAgICAgICAgICAgICAgICAgICAgICAgIDx0ZCBzdHlsZT0iYmFja2dyb3VuZC1jb2xvcjogI0IwRTBFNjsiPjxkaXYgc3R5bGU9InRleHQtYWxpZ246IGNlbnRlcjsiPlRpbWU8L2Rpdj48L3RkPgogICAgICAgICAgICAgICAgICAgICAgICA8dGQgc3R5bGU9IndpZHRoOiAzMDBweDtiYWNrZ3JvdW5kLWNvbG9yOiAjRjBGOEZGOyI%2BMTM6MTU8L3RkPgogICAgICAgICAgICAgICAgICAgICAgICA8L3RyPgoKICAgICAgICAgICAgICAgICAgICAgICAgPHRyPgogICAgICAgICAgICAgICAgICAgICAgICA8dGQgc3R5bGU9ImJhY2tncm91bmQtY29sb3I6ICNCMEUwRTY7Ij48ZGl2IHN0eWxlPSJ0ZXh0LWFsaWduOiBjZW50ZXI7Ij5MaWdodCBDb25kaXRpb25zPC9kaXY%2BPC90ZD4KICAgICAgICAgICAgICAgICAgICAgICAgPHRkIHN0eWxlPSJ3aWR0aDogMzAwcHg7YmFja2dyb3VuZC1jb2xvcjogI0YwRjhGRjsiPkRheWxpZ2h0OiBTdHJlZXQgbGlnaHQgcHJlc2VudDwvdGQ%2BCiAgICAgICAgICAgICAgICAgICAgICAgIDwvdHI%2BCgogICAgICAgICAgICAgICAgICAgICAgICA8dHI%2BCiAgICAgICAgICAgICAgICAgICAgICAgIDx0ZCBzdHlsZT0iYmFja2dyb3VuZC1jb2xvcjogI0IwRTBFNjsiPjxkaXYgc3R5bGU9InRleHQtYWxpZ246IGNlbnRlcjsiPldlYXRoZXIgQ29uZGl0aW9uczwvZGl2PjwvdGQ%2BCiAgICAgICAgICAgICAgICAgICAgICAgIDx0ZCBzdHlsZT0id2lkdGg6IDMwMHB4O2JhY2tncm91bmQtY29sb3I6ICNGMEY4RkY7Ij5SYWluaW5nIHdpdGhvdXQgaGlnaCB3aW5kczwvdGQ%2BCiAgICAgICAgICAgICAgICAgICAgICAgIDwvdHI%2BCgogICAgICAgICAgICAgICAgICAgICAgICA8dHI%2BCiAgICAgICAgICAgICAgICAgICAgICAgIDx0ZCBzdHlsZT0iYmFja2dyb3VuZC1jb2xvcjogI0IwRTBFNjt3aWR0aDogMzAwcHgiPjxkaXYgc3R5bGU9InRleHQtYWxpZ246IGNlbnRlcjsiPlJvYWQgU3VyZmFjZSBDb25kaXRpb25zPC9kaXY%2BPC90ZD4KICAgICAgICAgICAgICAgICAgICAgICAgPHRkIHN0eWxlPSJ3aWR0aDogMzAwcHg7YmFja2dyb3VuZC1jb2xvcjogI0YwRjhGRjsiPldldC9EYW1wPC90ZD4KICAgICAgICAgICAgICAgICAgICAgICAgPC90cj4KCiAgICAgICAgICAgICAgICAgICAgICAgIDx0cj4KICAgICAgICAgICAgICAgICAgICAgICAgPHRkIHN0eWxlPSJiYWNrZ3JvdW5kLWNvbG9yOiAjQjBFMEU2O3dpZHRoOiAzMDBweCI%2BPGRpdiBzdHlsZT0idGV4dC1hbGlnbjogY2VudGVyOyI%2BUm9hZCBUeXBlPC9kaXY%2BPC90ZD4KICAgICAgICAgICAgICAgICAgICAgICAgPHRkIHN0eWxlPSJ3aWR0aDogMzAwcHg7YmFja2dyb3VuZC1jb2xvcjogI0YwRjhGRjsiPlNpbmdsZSBjYXJyaWFnZXdheTwvdGQ%2BCiAgICAgICAgICAgICAgICAgICAgICAgIDwvdHI%2BCgogICAgICAgICAgICAgICAgICAgICAgICA8L3Rib2R5PgogICAgICAgICAgICAgICAgICAgICAgICA8L3RhYmxlPgogICAgICAgICAgICAgICAgICAgICAgICA8L2h0bWw%2BCiAgICAgICAgICAgICAgICAgICAgICAgIA%3D%3D%22%20width%3D%22600%22%20style%3D%22border%3Anone%20%21important%3B%22%20height%3D%22300%22%3E%3C/iframe%3E%60%29%5B0%5D%3B%0A%20%20%20%20%20%20%20%20%20%20%20%20popup_78dc23665aa641fdaadd30d159b315c8.setContent%28i_frame_1c3f4d9d858d4bc8991788e70e9a853d%29%3B%0A%20%20%20%20%20%20%20%20%0A%0A%20%20%20%20%20%20%20%20marker_014cb68973e8449786beace5aec74629.bindPopup%28popup_78dc23665aa641fdaadd30d159b315c8%29%0A%20%20%20%20%20%20%20%20%3B%0A%0A%20%20%20%20%20%20%20%20%0A%20%20%20%20%0A%20%20%20%20%0A%20%20%20%20%20%20%20%20%20%20%20%20var%20marker_026e57bc7685403d8743459cbfb4e104%20%3D%20L.marker%28%0A%20%20%20%20%20%20%20%20%20%20%20%20%20%20%20%20%5B51.488579%2C%20-0.192631%5D%2C%0A%20%20%20%20%20%20%20%20%20%20%20%20%20%20%20%20%7B%7D%0A%20%20%20%20%20%20%20%20%20%20%20%20%29.addTo%28map_75fd2d2f71c54ce2a9e39e21ce78aa24%29%3B%0A%20%20%20%20%20%20%20%20%0A%20%20%20%20%0A%20%20%20%20%20%20%20%20%20%20%20%20var%20icon_5726f4fe83fc422d8d15de279a63bd60%20%3D%20L.AwesomeMarkers.icon%28%0A%20%20%20%20%20%20%20%20%20%20%20%20%20%20%20%20%7B%22extraClasses%22%3A%20%22fa-rotate-0%22%2C%20%22icon%22%3A%20%22remove-sign%22%2C%20%22iconColor%22%3A%20%22white%22%2C%20%22markerColor%22%3A%20%22green%22%2C%20%22prefix%22%3A%20%22glyphicon%22%7D%0A%20%20%20%20%20%20%20%20%20%20%20%20%29%3B%0A%20%20%20%20%20%20%20%20%20%20%20%20marker_026e57bc7685403d8743459cbfb4e104.setIcon%28icon_5726f4fe83fc422d8d15de279a63bd60%29%3B%0A%20%20%20%20%20%20%20%20%0A%20%20%20%20%0A%20%20%20%20%20%20%20%20var%20popup_b5f7fbb9298d4b9fbb49068315f2b18f%20%3D%20L.popup%28%7B%22maxWidth%22%3A%20%22100%25%22%7D%29%3B%0A%0A%20%20%20%20%20%20%20%20%0A%20%20%20%20%20%20%20%20%20%20%20%20var%20i_frame_b9d36aa8a8034fc19b552a4ff2ab3f26%20%3D%20%24%28%60%3Ciframe%20src%3D%22data%3Atext/html%3Bcharset%3Dutf-8%3Bbase64%2CCiAgICA8IURPQ1RZUEUgaHRtbD4KICAgICAgICAgICAgICAgICAgICAgICAgPGh0bWw%2BCgogICAgICAgICAgICAgICAgICAgICAgICA8aGVhZD4KICAgICAgICAgICAgICAgICAgICAgICAgICAgIDxoMj5EZXRhaWxlZCBJbmZvbWF0aW9uIG9mIGFjY2lkZW50IDIwMDUwMUJTNzAxMzQ8L2g0PgogICAgICAgICAgICAgICAgICAgICAgICA8L2hlYWQ%2BCiAgICAgICAgICAgICAgICAgICAgICAgIDx0YWJsZSBzdHlsZT0iaGVpZ2h0OiAxMzBweDsgd2lkdGg6IDYwMHB4OyI%2BCiAgICAgICAgICAgICAgICAgICAgICAgIDx0Ym9keT4KICAgICAgICAgICAgICAgICAgICAgICAgPHRyPgogICAgICAgICAgICAgICAgICAgICAgICA8dGQgc3R5bGU9ImJhY2tncm91bmQtY29sb3I6ICNCMEUwRTY7Ij48ZGl2IHN0eWxlPSJ0ZXh0LWFsaWduOiBjZW50ZXI7Ij5EYXRlPC9kaXY%2BPC90ZD4KICAgICAgICAgICAgICAgICAgICAgICAgPHRkIHN0eWxlPSJ3aWR0aDogMzAwcHg7YmFja2dyb3VuZC1jb2xvcjogI0YwRjhGRjsiPjAxLzA0LzIwMDU8L3RkPgogICAgICAgICAgICAgICAgICAgICAgICA8L3RyPgogICAgICAgICAgICAgICAgICAgICAgICA8dHI%2BCiAgICAgICAgICAgICAgICAgICAgICAgIDx0ZCBzdHlsZT0iYmFja2dyb3VuZC1jb2xvcjogI0IwRTBFNjsiPjxkaXYgc3R5bGU9InRleHQtYWxpZ246IGNlbnRlcjsiPk51bWJlciBvZiBWZWhpY2xlczwvZGl2PjwvdGQ%2BCiAgICAgICAgICAgICAgICAgICAgICAgIDx0ZCBzdHlsZT0id2lkdGg6IDMwMHB4O2JhY2tncm91bmQtY29sb3I6ICNGMEY4RkY7Ij4yPC90ZD4KICAgICAgICAgICAgICAgICAgICAgICAgPC90cj4KCiAgICAgICAgICAgICAgICAgICAgICAgIDx0cj4KICAgICAgICAgICAgICAgICAgICAgICAgPHRkIHN0eWxlPSJiYWNrZ3JvdW5kLWNvbG9yOiAjQjBFMEU2OyI%2BPGRpdiBzdHlsZT0idGV4dC1hbGlnbjogY2VudGVyOyI%2BTnVtYmVyIG9mIENhc3VhbHRpZXM8L2Rpdj48L3RkPgogICAgICAgICAgICAgICAgICAgICAgICA8dGQgc3R5bGU9IndpZHRoOiAzMDBweDtiYWNrZ3JvdW5kLWNvbG9yOiAjRjBGOEZGOyI%2BMTwvdGQ%2BCiAgICAgICAgICAgICAgICAgICAgICAgIDwvdHI%2BCgogICAgICAgICAgICAgICAgICAgICAgICA8dHI%2BCiAgICAgICAgICAgICAgICAgICAgICAgIDx0ZCBzdHlsZT0iYmFja2dyb3VuZC1jb2xvcjogI0IwRTBFNjsiPjxkaXYgc3R5bGU9InRleHQtYWxpZ246IGNlbnRlcjsiPlRpbWU8L2Rpdj48L3RkPgogICAgICAgICAgICAgICAgICAgICAgICA8dGQgc3R5bGU9IndpZHRoOiAzMDBweDtiYWNrZ3JvdW5kLWNvbG9yOiAjRjBGOEZGOyI%2BMjM6NDA8L3RkPgogICAgICAgICAgICAgICAgICAgICAgICA8L3RyPgoKICAgICAgICAgICAgICAgICAgICAgICAgPHRyPgogICAgICAgICAgICAgICAgICAgICAgICA8dGQgc3R5bGU9ImJhY2tncm91bmQtY29sb3I6ICNCMEUwRTY7Ij48ZGl2IHN0eWxlPSJ0ZXh0LWFsaWduOiBjZW50ZXI7Ij5MaWdodCBDb25kaXRpb25zPC9kaXY%2BPC90ZD4KICAgICAgICAgICAgICAgICAgICAgICAgPHRkIHN0eWxlPSJ3aWR0aDogMzAwcHg7YmFja2dyb3VuZC1jb2xvcjogI0YwRjhGRjsiPkRhcmtuZXNzOiBTdHJlZXQgbGlnaHRzIHByZXNlbnQgYW5kIGxpdDwvdGQ%2BCiAgICAgICAgICAgICAgICAgICAgICAgIDwvdHI%2BCgogICAgICAgICAgICAgICAgICAgICAgICA8dHI%2BCiAgICAgICAgICAgICAgICAgICAgICAgIDx0ZCBzdHlsZT0iYmFja2dyb3VuZC1jb2xvcjogI0IwRTBFNjsiPjxkaXYgc3R5bGU9InRleHQtYWxpZ246IGNlbnRlcjsiPldlYXRoZXIgQ29uZGl0aW9uczwvZGl2PjwvdGQ%2BCiAgICAgICAgICAgICAgICAgICAgICAgIDx0ZCBzdHlsZT0id2lkdGg6IDMwMHB4O2JhY2tncm91bmQtY29sb3I6ICNGMEY4RkY7Ij5GaW5lIHdpdGhvdXQgaGlnaCB3aW5kczwvdGQ%2BCiAgICAgICAgICAgICAgICAgICAgICAgIDwvdHI%2BCgogICAgICAgICAgICAgICAgICAgICAgICA8dHI%2BCiAgICAgICAgICAgICAgICAgICAgICAgIDx0ZCBzdHlsZT0iYmFja2dyb3VuZC1jb2xvcjogI0IwRTBFNjt3aWR0aDogMzAwcHgiPjxkaXYgc3R5bGU9InRleHQtYWxpZ246IGNlbnRlcjsiPlJvYWQgU3VyZmFjZSBDb25kaXRpb25zPC9kaXY%2BPC90ZD4KICAgICAgICAgICAgICAgICAgICAgICAgPHRkIHN0eWxlPSJ3aWR0aDogMzAwcHg7YmFja2dyb3VuZC1jb2xvcjogI0YwRjhGRjsiPkRyeTwvdGQ%2BCiAgICAgICAgICAgICAgICAgICAgICAgIDwvdHI%2BCgogICAgICAgICAgICAgICAgICAgICAgICA8dHI%2BCiAgICAgICAgICAgICAgICAgICAgICAgIDx0ZCBzdHlsZT0iYmFja2dyb3VuZC1jb2xvcjogI0IwRTBFNjt3aWR0aDogMzAwcHgiPjxkaXYgc3R5bGU9InRleHQtYWxpZ246IGNlbnRlcjsiPlJvYWQgVHlwZTwvZGl2PjwvdGQ%2BCiAgICAgICAgICAgICAgICAgICAgICAgIDx0ZCBzdHlsZT0id2lkdGg6IDMwMHB4O2JhY2tncm91bmQtY29sb3I6ICNGMEY4RkY7Ij5PbmUgd2F5IHN0cmVldDwvdGQ%2BCiAgICAgICAgICAgICAgICAgICAgICAgIDwvdHI%2BCgogICAgICAgICAgICAgICAgICAgICAgICA8L3Rib2R5PgogICAgICAgICAgICAgICAgICAgICAgICA8L3RhYmxlPgogICAgICAgICAgICAgICAgICAgICAgICA8L2h0bWw%2BCiAgICAgICAgICAgICAgICAgICAgICAgIA%3D%3D%22%20width%3D%22600%22%20style%3D%22border%3Anone%20%21important%3B%22%20height%3D%22300%22%3E%3C/iframe%3E%60%29%5B0%5D%3B%0A%20%20%20%20%20%20%20%20%20%20%20%20popup_b5f7fbb9298d4b9fbb49068315f2b18f.setContent%28i_frame_b9d36aa8a8034fc19b552a4ff2ab3f26%29%3B%0A%20%20%20%20%20%20%20%20%0A%0A%20%20%20%20%20%20%20%20marker_026e57bc7685403d8743459cbfb4e104.bindPopup%28popup_b5f7fbb9298d4b9fbb49068315f2b18f%29%0A%20%20%20%20%20%20%20%20%3B%0A%0A%20%20%20%20%20%20%20%20%0A%20%20%20%20%0A%20%20%20%20%0A%20%20%20%20%20%20%20%20%20%20%20%20var%20marker_a48feaba5cae449d993abec85eefe6d1%20%3D%20L.marker%28%0A%20%20%20%20%20%20%20%20%20%20%20%20%20%20%20%20%5B51.49008%2C%20-0.190843%5D%2C%0A%20%20%20%20%20%20%20%20%20%20%20%20%20%20%20%20%7B%7D%0A%20%20%20%20%20%20%20%20%20%20%20%20%29.addTo%28map_75fd2d2f71c54ce2a9e39e21ce78aa24%29%3B%0A%20%20%20%20%20%20%20%20%0A%20%20%20%20%0A%20%20%20%20%20%20%20%20%20%20%20%20var%20icon_f02d5396f3a34eab84b8b3d36f3f40bc%20%3D%20L.AwesomeMarkers.icon%28%0A%20%20%20%20%20%20%20%20%20%20%20%20%20%20%20%20%7B%22extraClasses%22%3A%20%22fa-rotate-0%22%2C%20%22icon%22%3A%20%22remove-sign%22%2C%20%22iconColor%22%3A%20%22white%22%2C%20%22markerColor%22%3A%20%22red%22%2C%20%22prefix%22%3A%20%22glyphicon%22%7D%0A%20%20%20%20%20%20%20%20%20%20%20%20%29%3B%0A%20%20%20%20%20%20%20%20%20%20%20%20marker_a48feaba5cae449d993abec85eefe6d1.setIcon%28icon_f02d5396f3a34eab84b8b3d36f3f40bc%29%3B%0A%20%20%20%20%20%20%20%20%0A%20%20%20%20%0A%20%20%20%20%20%20%20%20var%20popup_fd77cba8895a4b3f9ce7164345533383%20%3D%20L.popup%28%7B%22maxWidth%22%3A%20%22100%25%22%7D%29%3B%0A%0A%20%20%20%20%20%20%20%20%0A%20%20%20%20%20%20%20%20%20%20%20%20var%20i_frame_91a9787ee5c94b60a605c4c3957846a1%20%3D%20%24%28%60%3Ciframe%20src%3D%22data%3Atext/html%3Bcharset%3Dutf-8%3Bbase64%2CCiAgICA8IURPQ1RZUEUgaHRtbD4KICAgICAgICAgICAgICAgICAgICAgICAgPGh0bWw%2BCgogICAgICAgICAgICAgICAgICAgICAgICA8aGVhZD4KICAgICAgICAgICAgICAgICAgICAgICAgICAgIDxoMj5EZXRhaWxlZCBJbmZvbWF0aW9uIG9mIGFjY2lkZW50IDIwMDUwMUJTNzAyMjM8L2g0PgogICAgICAgICAgICAgICAgICAgICAgICA8L2hlYWQ%2BCiAgICAgICAgICAgICAgICAgICAgICAgIDx0YWJsZSBzdHlsZT0iaGVpZ2h0OiAxMzBweDsgd2lkdGg6IDYwMHB4OyI%2BCiAgICAgICAgICAgICAgICAgICAgICAgIDx0Ym9keT4KICAgICAgICAgICAgICAgICAgICAgICAgPHRyPgogICAgICAgICAgICAgICAgICAgICAgICA8dGQgc3R5bGU9ImJhY2tncm91bmQtY29sb3I6ICNCMEUwRTY7Ij48ZGl2IHN0eWxlPSJ0ZXh0LWFsaWduOiBjZW50ZXI7Ij5EYXRlPC9kaXY%2BPC90ZD4KICAgICAgICAgICAgICAgICAgICAgICAgPHRkIHN0eWxlPSJ3aWR0aDogMzAwcHg7YmFja2dyb3VuZC1jb2xvcjogI0YwRjhGRjsiPjE4LzA1LzIwMDU8L3RkPgogICAgICAgICAgICAgICAgICAgICAgICA8L3RyPgogICAgICAgICAgICAgICAgICAgICAgICA8dHI%2BCiAgICAgICAgICAgICAgICAgICAgICAgIDx0ZCBzdHlsZT0iYmFja2dyb3VuZC1jb2xvcjogI0IwRTBFNjsiPjxkaXYgc3R5bGU9InRleHQtYWxpZ246IGNlbnRlcjsiPk51bWJlciBvZiBWZWhpY2xlczwvZGl2PjwvdGQ%2BCiAgICAgICAgICAgICAgICAgICAgICAgIDx0ZCBzdHlsZT0id2lkdGg6IDMwMHB4O2JhY2tncm91bmQtY29sb3I6ICNGMEY4RkY7Ij4yPC90ZD4KICAgICAgICAgICAgICAgICAgICAgICAgPC90cj4KCiAgICAgICAgICAgICAgICAgICAgICAgIDx0cj4KICAgICAgICAgICAgICAgICAgICAgICAgPHRkIHN0eWxlPSJiYWNrZ3JvdW5kLWNvbG9yOiAjQjBFMEU2OyI%2BPGRpdiBzdHlsZT0idGV4dC1hbGlnbjogY2VudGVyOyI%2BTnVtYmVyIG9mIENhc3VhbHRpZXM8L2Rpdj48L3RkPgogICAgICAgICAgICAgICAgICAgICAgICA8dGQgc3R5bGU9IndpZHRoOiAzMDBweDtiYWNrZ3JvdW5kLWNvbG9yOiAjRjBGOEZGOyI%2BMTwvdGQ%2BCiAgICAgICAgICAgICAgICAgICAgICAgIDwvdHI%2BCgogICAgICAgICAgICAgICAgICAgICAgICA8dHI%2BCiAgICAgICAgICAgICAgICAgICAgICAgIDx0ZCBzdHlsZT0iYmFja2dyb3VuZC1jb2xvcjogI0IwRTBFNjsiPjxkaXYgc3R5bGU9InRleHQtYWxpZ246IGNlbnRlcjsiPlRpbWU8L2Rpdj48L3RkPgogICAgICAgICAgICAgICAgICAgICAgICA8dGQgc3R5bGU9IndpZHRoOiAzMDBweDtiYWNrZ3JvdW5kLWNvbG9yOiAjRjBGOEZGOyI%2BMTk6MjA8L3RkPgogICAgICAgICAgICAgICAgICAgICAgICA8L3RyPgoKICAgICAgICAgICAgICAgICAgICAgICAgPHRyPgogICAgICAgICAgICAgICAgICAgICAgICA8dGQgc3R5bGU9ImJhY2tncm91bmQtY29sb3I6ICNCMEUwRTY7Ij48ZGl2IHN0eWxlPSJ0ZXh0LWFsaWduOiBjZW50ZXI7Ij5MaWdodCBDb25kaXRpb25zPC9kaXY%2BPC90ZD4KICAgICAgICAgICAgICAgICAgICAgICAgPHRkIHN0eWxlPSJ3aWR0aDogMzAwcHg7YmFja2dyb3VuZC1jb2xvcjogI0YwRjhGRjsiPkRheWxpZ2h0OiBTdHJlZXQgbGlnaHQgcHJlc2VudDwvdGQ%2BCiAgICAgICAgICAgICAgICAgICAgICAgIDwvdHI%2BCgogICAgICAgICAgICAgICAgICAgICAgICA8dHI%2BCiAgICAgICAgICAgICAgICAgICAgICAgIDx0ZCBzdHlsZT0iYmFja2dyb3VuZC1jb2xvcjogI0IwRTBFNjsiPjxkaXYgc3R5bGU9InRleHQtYWxpZ246IGNlbnRlcjsiPldlYXRoZXIgQ29uZGl0aW9uczwvZGl2PjwvdGQ%2BCiAgICAgICAgICAgICAgICAgICAgICAgIDx0ZCBzdHlsZT0id2lkdGg6IDMwMHB4O2JhY2tncm91bmQtY29sb3I6ICNGMEY4RkY7Ij5GaW5lIHdpdGhvdXQgaGlnaCB3aW5kczwvdGQ%2BCiAgICAgICAgICAgICAgICAgICAgICAgIDwvdHI%2BCgogICAgICAgICAgICAgICAgICAgICAgICA8dHI%2BCiAgICAgICAgICAgICAgICAgICAgICAgIDx0ZCBzdHlsZT0iYmFja2dyb3VuZC1jb2xvcjogI0IwRTBFNjt3aWR0aDogMzAwcHgiPjxkaXYgc3R5bGU9InRleHQtYWxpZ246IGNlbnRlcjsiPlJvYWQgU3VyZmFjZSBDb25kaXRpb25zPC9kaXY%2BPC90ZD4KICAgICAgICAgICAgICAgICAgICAgICAgPHRkIHN0eWxlPSJ3aWR0aDogMzAwcHg7YmFja2dyb3VuZC1jb2xvcjogI0YwRjhGRjsiPkRyeTwvdGQ%2BCiAgICAgICAgICAgICAgICAgICAgICAgIDwvdHI%2BCgogICAgICAgICAgICAgICAgICAgICAgICA8dHI%2BCiAgICAgICAgICAgICAgICAgICAgICAgIDx0ZCBzdHlsZT0iYmFja2dyb3VuZC1jb2xvcjogI0IwRTBFNjt3aWR0aDogMzAwcHgiPjxkaXYgc3R5bGU9InRleHQtYWxpZ246IGNlbnRlcjsiPlJvYWQgVHlwZTwvZGl2PjwvdGQ%2BCiAgICAgICAgICAgICAgICAgICAgICAgIDx0ZCBzdHlsZT0id2lkdGg6IDMwMHB4O2JhY2tncm91bmQtY29sb3I6ICNGMEY4RkY7Ij5PbmUgd2F5IHN0cmVldDwvdGQ%2BCiAgICAgICAgICAgICAgICAgICAgICAgIDwvdHI%2BCgogICAgICAgICAgICAgICAgICAgICAgICA8L3Rib2R5PgogICAgICAgICAgICAgICAgICAgICAgICA8L3RhYmxlPgogICAgICAgICAgICAgICAgICAgICAgICA8L2h0bWw%2BCiAgICAgICAgICAgICAgICAgICAgICAgIA%3D%3D%22%20width%3D%22600%22%20style%3D%22border%3Anone%20%21important%3B%22%20height%3D%22300%22%3E%3C/iframe%3E%60%29%5B0%5D%3B%0A%20%20%20%20%20%20%20%20%20%20%20%20popup_fd77cba8895a4b3f9ce7164345533383.setContent%28i_frame_91a9787ee5c94b60a605c4c3957846a1%29%3B%0A%20%20%20%20%20%20%20%20%0A%0A%20%20%20%20%20%20%20%20marker_a48feaba5cae449d993abec85eefe6d1.bindPopup%28popup_fd77cba8895a4b3f9ce7164345533383%29%0A%20%20%20%20%20%20%20%20%3B%0A%0A%20%20%20%20%20%20%20%20%0A%20%20%20%20%0A%20%20%20%20%0A%20%20%20%20%20%20%20%20%20%20%20%20var%20marker_e99ac74a9a854ae28573f88bf94b1e87%20%3D%20L.marker%28%0A%20%20%20%20%20%20%20%20%20%20%20%20%20%20%20%20%5B51.490715%2C%20-0.19125%5D%2C%0A%20%20%20%20%20%20%20%20%20%20%20%20%20%20%20%20%7B%7D%0A%20%20%20%20%20%20%20%20%20%20%20%20%29.addTo%28map_75fd2d2f71c54ce2a9e39e21ce78aa24%29%3B%0A%20%20%20%20%20%20%20%20%0A%20%20%20%20%0A%20%20%20%20%20%20%20%20%20%20%20%20var%20icon_e42f69bde842403882169b9e48a32ea5%20%3D%20L.AwesomeMarkers.icon%28%0A%20%20%20%20%20%20%20%20%20%20%20%20%20%20%20%20%7B%22extraClasses%22%3A%20%22fa-rotate-0%22%2C%20%22icon%22%3A%20%22remove-sign%22%2C%20%22iconColor%22%3A%20%22white%22%2C%20%22markerColor%22%3A%20%22red%22%2C%20%22prefix%22%3A%20%22glyphicon%22%7D%0A%20%20%20%20%20%20%20%20%20%20%20%20%29%3B%0A%20%20%20%20%20%20%20%20%20%20%20%20marker_e99ac74a9a854ae28573f88bf94b1e87.setIcon%28icon_e42f69bde842403882169b9e48a32ea5%29%3B%0A%20%20%20%20%20%20%20%20%0A%20%20%20%20%0A%20%20%20%20%20%20%20%20var%20popup_3363aba859f341a2b8a52b17cb748565%20%3D%20L.popup%28%7B%22maxWidth%22%3A%20%22100%25%22%7D%29%3B%0A%0A%20%20%20%20%20%20%20%20%0A%20%20%20%20%20%20%20%20%20%20%20%20var%20i_frame_1b4bb7c124164990b199e64ae6dbb051%20%3D%20%24%28%60%3Ciframe%20src%3D%22data%3Atext/html%3Bcharset%3Dutf-8%3Bbase64%2CCiAgICA8IURPQ1RZUEUgaHRtbD4KICAgICAgICAgICAgICAgICAgICAgICAgPGh0bWw%2BCgogICAgICAgICAgICAgICAgICAgICAgICA8aGVhZD4KICAgICAgICAgICAgICAgICAgICAgICAgICAgIDxoMj5EZXRhaWxlZCBJbmZvbWF0aW9uIG9mIGFjY2lkZW50IDIwMDUwMUJTNzAyNDQ8L2g0PgogICAgICAgICAgICAgICAgICAgICAgICA8L2hlYWQ%2BCiAgICAgICAgICAgICAgICAgICAgICAgIDx0YWJsZSBzdHlsZT0iaGVpZ2h0OiAxMzBweDsgd2lkdGg6IDYwMHB4OyI%2BCiAgICAgICAgICAgICAgICAgICAgICAgIDx0Ym9keT4KICAgICAgICAgICAgICAgICAgICAgICAgPHRyPgogICAgICAgICAgICAgICAgICAgICAgICA8dGQgc3R5bGU9ImJhY2tncm91bmQtY29sb3I6ICNCMEUwRTY7Ij48ZGl2IHN0eWxlPSJ0ZXh0LWFsaWduOiBjZW50ZXI7Ij5EYXRlPC9kaXY%2BPC90ZD4KICAgICAgICAgICAgICAgICAgICAgICAgPHRkIHN0eWxlPSJ3aWR0aDogMzAwcHg7YmFja2dyb3VuZC1jb2xvcjogI0YwRjhGRjsiPjIzLzA1LzIwMDU8L3RkPgogICAgICAgICAgICAgICAgICAgICAgICA8L3RyPgogICAgICAgICAgICAgICAgICAgICAgICA8dHI%2BCiAgICAgICAgICAgICAgICAgICAgICAgIDx0ZCBzdHlsZT0iYmFja2dyb3VuZC1jb2xvcjogI0IwRTBFNjsiPjxkaXYgc3R5bGU9InRleHQtYWxpZ246IGNlbnRlcjsiPk51bWJlciBvZiBWZWhpY2xlczwvZGl2PjwvdGQ%2BCiAgICAgICAgICAgICAgICAgICAgICAgIDx0ZCBzdHlsZT0id2lkdGg6IDMwMHB4O2JhY2tncm91bmQtY29sb3I6ICNGMEY4RkY7Ij4xPC90ZD4KICAgICAgICAgICAgICAgICAgICAgICAgPC90cj4KCiAgICAgICAgICAgICAgICAgICAgICAgIDx0cj4KICAgICAgICAgICAgICAgICAgICAgICAgPHRkIHN0eWxlPSJiYWNrZ3JvdW5kLWNvbG9yOiAjQjBFMEU2OyI%2BPGRpdiBzdHlsZT0idGV4dC1hbGlnbjogY2VudGVyOyI%2BTnVtYmVyIG9mIENhc3VhbHRpZXM8L2Rpdj48L3RkPgogICAgICAgICAgICAgICAgICAgICAgICA8dGQgc3R5bGU9IndpZHRoOiAzMDBweDtiYWNrZ3JvdW5kLWNvbG9yOiAjRjBGOEZGOyI%2BMTwvdGQ%2BCiAgICAgICAgICAgICAgICAgICAgICAgIDwvdHI%2BCgogICAgICAgICAgICAgICAgICAgICAgICA8dHI%2BCiAgICAgICAgICAgICAgICAgICAgICAgIDx0ZCBzdHlsZT0iYmFja2dyb3VuZC1jb2xvcjogI0IwRTBFNjsiPjxkaXYgc3R5bGU9InRleHQtYWxpZ246IGNlbnRlcjsiPlRpbWU8L2Rpdj48L3RkPgogICAgICAgICAgICAgICAgICAgICAgICA8dGQgc3R5bGU9IndpZHRoOiAzMDBweDtiYWNrZ3JvdW5kLWNvbG9yOiAjRjBGOEZGOyI%2BMDk6NDA8L3RkPgogICAgICAgICAgICAgICAgICAgICAgICA8L3RyPgoKICAgICAgICAgICAgICAgICAgICAgICAgPHRyPgogICAgICAgICAgICAgICAgICAgICAgICA8dGQgc3R5bGU9ImJhY2tncm91bmQtY29sb3I6ICNCMEUwRTY7Ij48ZGl2IHN0eWxlPSJ0ZXh0LWFsaWduOiBjZW50ZXI7Ij5MaWdodCBDb25kaXRpb25zPC9kaXY%2BPC90ZD4KICAgICAgICAgICAgICAgICAgICAgICAgPHRkIHN0eWxlPSJ3aWR0aDogMzAwcHg7YmFja2dyb3VuZC1jb2xvcjogI0YwRjhGRjsiPkRheWxpZ2h0OiBTdHJlZXQgbGlnaHQgcHJlc2VudDwvdGQ%2BCiAgICAgICAgICAgICAgICAgICAgICAgIDwvdHI%2BCgogICAgICAgICAgICAgICAgICAgICAgICA8dHI%2BCiAgICAgICAgICAgICAgICAgICAgICAgIDx0ZCBzdHlsZT0iYmFja2dyb3VuZC1jb2xvcjogI0IwRTBFNjsiPjxkaXYgc3R5bGU9InRleHQtYWxpZ246IGNlbnRlcjsiPldlYXRoZXIgQ29uZGl0aW9uczwvZGl2PjwvdGQ%2BCiAgICAgICAgICAgICAgICAgICAgICAgIDx0ZCBzdHlsZT0id2lkdGg6IDMwMHB4O2JhY2tncm91bmQtY29sb3I6ICNGMEY4RkY7Ij5GaW5lIHdpdGhvdXQgaGlnaCB3aW5kczwvdGQ%2BCiAgICAgICAgICAgICAgICAgICAgICAgIDwvdHI%2BCgogICAgICAgICAgICAgICAgICAgICAgICA8dHI%2BCiAgICAgICAgICAgICAgICAgICAgICAgIDx0ZCBzdHlsZT0iYmFja2dyb3VuZC1jb2xvcjogI0IwRTBFNjt3aWR0aDogMzAwcHgiPjxkaXYgc3R5bGU9InRleHQtYWxpZ246IGNlbnRlcjsiPlJvYWQgU3VyZmFjZSBDb25kaXRpb25zPC9kaXY%2BPC90ZD4KICAgICAgICAgICAgICAgICAgICAgICAgPHRkIHN0eWxlPSJ3aWR0aDogMzAwcHg7YmFja2dyb3VuZC1jb2xvcjogI0YwRjhGRjsiPkRyeTwvdGQ%2BCiAgICAgICAgICAgICAgICAgICAgICAgIDwvdHI%2BCgogICAgICAgICAgICAgICAgICAgICAgICA8dHI%2BCiAgICAgICAgICAgICAgICAgICAgICAgIDx0ZCBzdHlsZT0iYmFja2dyb3VuZC1jb2xvcjogI0IwRTBFNjt3aWR0aDogMzAwcHgiPjxkaXYgc3R5bGU9InRleHQtYWxpZ246IGNlbnRlcjsiPlJvYWQgVHlwZTwvZGl2PjwvdGQ%2BCiAgICAgICAgICAgICAgICAgICAgICAgIDx0ZCBzdHlsZT0id2lkdGg6IDMwMHB4O2JhY2tncm91bmQtY29sb3I6ICNGMEY4RkY7Ij5TaW5nbGUgY2FycmlhZ2V3YXk8L3RkPgogICAgICAgICAgICAgICAgICAgICAgICA8L3RyPgoKICAgICAgICAgICAgICAgICAgICAgICAgPC90Ym9keT4KICAgICAgICAgICAgICAgICAgICAgICAgPC90YWJsZT4KICAgICAgICAgICAgICAgICAgICAgICAgPC9odG1sPgogICAgICAgICAgICAgICAgICAgICAgICA%3D%22%20width%3D%22600%22%20style%3D%22border%3Anone%20%21important%3B%22%20height%3D%22300%22%3E%3C/iframe%3E%60%29%5B0%5D%3B%0A%20%20%20%20%20%20%20%20%20%20%20%20popup_3363aba859f341a2b8a52b17cb748565.setContent%28i_frame_1b4bb7c124164990b199e64ae6dbb051%29%3B%0A%20%20%20%20%20%20%20%20%0A%0A%20%20%20%20%20%20%20%20marker_e99ac74a9a854ae28573f88bf94b1e87.bindPopup%28popup_3363aba859f341a2b8a52b17cb748565%29%0A%20%20%20%20%20%20%20%20%3B%0A%0A%20%20%20%20%20%20%20%20%0A%20%20%20%20%0A%20%20%20%20%0A%20%20%20%20%20%20%20%20%20%20%20%20var%20marker_f019f1de12124b389cecc080b5351b3e%20%3D%20L.marker%28%0A%20%20%20%20%20%20%20%20%20%20%20%20%20%20%20%20%5B51.491724%2C%20-0.192506%5D%2C%0A%20%20%20%20%20%20%20%20%20%20%20%20%20%20%20%20%7B%7D%0A%20%20%20%20%20%20%20%20%20%20%20%20%29.addTo%28map_75fd2d2f71c54ce2a9e39e21ce78aa24%29%3B%0A%20%20%20%20%20%20%20%20%0A%20%20%20%20%0A%20%20%20%20%20%20%20%20%20%20%20%20var%20icon_2c3f78085b0a487896c56536b2a09e4e%20%3D%20L.AwesomeMarkers.icon%28%0A%20%20%20%20%20%20%20%20%20%20%20%20%20%20%20%20%7B%22extraClasses%22%3A%20%22fa-rotate-0%22%2C%20%22icon%22%3A%20%22remove-sign%22%2C%20%22iconColor%22%3A%20%22white%22%2C%20%22markerColor%22%3A%20%22red%22%2C%20%22prefix%22%3A%20%22glyphicon%22%7D%0A%20%20%20%20%20%20%20%20%20%20%20%20%29%3B%0A%20%20%20%20%20%20%20%20%20%20%20%20marker_f019f1de12124b389cecc080b5351b3e.setIcon%28icon_2c3f78085b0a487896c56536b2a09e4e%29%3B%0A%20%20%20%20%20%20%20%20%0A%20%20%20%20%0A%20%20%20%20%20%20%20%20var%20popup_a522731cf82344738d7161bb082ed978%20%3D%20L.popup%28%7B%22maxWidth%22%3A%20%22100%25%22%7D%29%3B%0A%0A%20%20%20%20%20%20%20%20%0A%20%20%20%20%20%20%20%20%20%20%20%20var%20i_frame_d0c609a068d3470486bcf8bc068ee38b%20%3D%20%24%28%60%3Ciframe%20src%3D%22data%3Atext/html%3Bcharset%3Dutf-8%3Bbase64%2CCiAgICA8IURPQ1RZUEUgaHRtbD4KICAgICAgICAgICAgICAgICAgICAgICAgPGh0bWw%2BCgogICAgICAgICAgICAgICAgICAgICAgICA8aGVhZD4KICAgICAgICAgICAgICAgICAgICAgICAgICAgIDxoMj5EZXRhaWxlZCBJbmZvbWF0aW9uIG9mIGFjY2lkZW50IDIwMDUwMUJTNzA2NzU8L2g0PgogICAgICAgICAgICAgICAgICAgICAgICA8L2hlYWQ%2BCiAgICAgICAgICAgICAgICAgICAgICAgIDx0YWJsZSBzdHlsZT0iaGVpZ2h0OiAxMzBweDsgd2lkdGg6IDYwMHB4OyI%2BCiAgICAgICAgICAgICAgICAgICAgICAgIDx0Ym9keT4KICAgICAgICAgICAgICAgICAgICAgICAgPHRyPgogICAgICAgICAgICAgICAgICAgICAgICA8dGQgc3R5bGU9ImJhY2tncm91bmQtY29sb3I6ICNCMEUwRTY7Ij48ZGl2IHN0eWxlPSJ0ZXh0LWFsaWduOiBjZW50ZXI7Ij5EYXRlPC9kaXY%2BPC90ZD4KICAgICAgICAgICAgICAgICAgICAgICAgPHRkIHN0eWxlPSJ3aWR0aDogMzAwcHg7YmFja2dyb3VuZC1jb2xvcjogI0YwRjhGRjsiPjA5LzExLzIwMDU8L3RkPgogICAgICAgICAgICAgICAgICAgICAgICA8L3RyPgogICAgICAgICAgICAgICAgICAgICAgICA8dHI%2BCiAgICAgICAgICAgICAgICAgICAgICAgIDx0ZCBzdHlsZT0iYmFja2dyb3VuZC1jb2xvcjogI0IwRTBFNjsiPjxkaXYgc3R5bGU9InRleHQtYWxpZ246IGNlbnRlcjsiPk51bWJlciBvZiBWZWhpY2xlczwvZGl2PjwvdGQ%2BCiAgICAgICAgICAgICAgICAgICAgICAgIDx0ZCBzdHlsZT0id2lkdGg6IDMwMHB4O2JhY2tncm91bmQtY29sb3I6ICNGMEY4RkY7Ij4yPC90ZD4KICAgICAgICAgICAgICAgICAgICAgICAgPC90cj4KCiAgICAgICAgICAgICAgICAgICAgICAgIDx0cj4KICAgICAgICAgICAgICAgICAgICAgICAgPHRkIHN0eWxlPSJiYWNrZ3JvdW5kLWNvbG9yOiAjQjBFMEU2OyI%2BPGRpdiBzdHlsZT0idGV4dC1hbGlnbjogY2VudGVyOyI%2BTnVtYmVyIG9mIENhc3VhbHRpZXM8L2Rpdj48L3RkPgogICAgICAgICAgICAgICAgICAgICAgICA8dGQgc3R5bGU9IndpZHRoOiAzMDBweDtiYWNrZ3JvdW5kLWNvbG9yOiAjRjBGOEZGOyI%2BMTwvdGQ%2BCiAgICAgICAgICAgICAgICAgICAgICAgIDwvdHI%2BCgogICAgICAgICAgICAgICAgICAgICAgICA8dHI%2BCiAgICAgICAgICAgICAgICAgICAgICAgIDx0ZCBzdHlsZT0iYmFja2dyb3VuZC1jb2xvcjogI0IwRTBFNjsiPjxkaXYgc3R5bGU9InRleHQtYWxpZ246IGNlbnRlcjsiPlRpbWU8L2Rpdj48L3RkPgogICAgICAgICAgICAgICAgICAgICAgICA8dGQgc3R5bGU9IndpZHRoOiAzMDBweDtiYWNrZ3JvdW5kLWNvbG9yOiAjRjBGOEZGOyI%2BMDc6MDQ8L3RkPgogICAgICAgICAgICAgICAgICAgICAgICA8L3RyPgoKICAgICAgICAgICAgICAgICAgICAgICAgPHRyPgogICAgICAgICAgICAgICAgICAgICAgICA8dGQgc3R5bGU9ImJhY2tncm91bmQtY29sb3I6ICNCMEUwRTY7Ij48ZGl2IHN0eWxlPSJ0ZXh0LWFsaWduOiBjZW50ZXI7Ij5MaWdodCBDb25kaXRpb25zPC9kaXY%2BPC90ZD4KICAgICAgICAgICAgICAgICAgICAgICAgPHRkIHN0eWxlPSJ3aWR0aDogMzAwcHg7YmFja2dyb3VuZC1jb2xvcjogI0YwRjhGRjsiPkRheWxpZ2h0OiBTdHJlZXQgbGlnaHQgcHJlc2VudDwvdGQ%2BCiAgICAgICAgICAgICAgICAgICAgICAgIDwvdHI%2BCgogICAgICAgICAgICAgICAgICAgICAgICA8dHI%2BCiAgICAgICAgICAgICAgICAgICAgICAgIDx0ZCBzdHlsZT0iYmFja2dyb3VuZC1jb2xvcjogI0IwRTBFNjsiPjxkaXYgc3R5bGU9InRleHQtYWxpZ246IGNlbnRlcjsiPldlYXRoZXIgQ29uZGl0aW9uczwvZGl2PjwvdGQ%2BCiAgICAgICAgICAgICAgICAgICAgICAgIDx0ZCBzdHlsZT0id2lkdGg6IDMwMHB4O2JhY2tncm91bmQtY29sb3I6ICNGMEY4RkY7Ij5GaW5lIHdpdGhvdXQgaGlnaCB3aW5kczwvdGQ%2BCiAgICAgICAgICAgICAgICAgICAgICAgIDwvdHI%2BCgogICAgICAgICAgICAgICAgICAgICAgICA8dHI%2BCiAgICAgICAgICAgICAgICAgICAgICAgIDx0ZCBzdHlsZT0iYmFja2dyb3VuZC1jb2xvcjogI0IwRTBFNjt3aWR0aDogMzAwcHgiPjxkaXYgc3R5bGU9InRleHQtYWxpZ246IGNlbnRlcjsiPlJvYWQgU3VyZmFjZSBDb25kaXRpb25zPC9kaXY%2BPC90ZD4KICAgICAgICAgICAgICAgICAgICAgICAgPHRkIHN0eWxlPSJ3aWR0aDogMzAwcHg7YmFja2dyb3VuZC1jb2xvcjogI0YwRjhGRjsiPkRyeTwvdGQ%2BCiAgICAgICAgICAgICAgICAgICAgICAgIDwvdHI%2BCgogICAgICAgICAgICAgICAgICAgICAgICA8dHI%2BCiAgICAgICAgICAgICAgICAgICAgICAgIDx0ZCBzdHlsZT0iYmFja2dyb3VuZC1jb2xvcjogI0IwRTBFNjt3aWR0aDogMzAwcHgiPjxkaXYgc3R5bGU9InRleHQtYWxpZ246IGNlbnRlcjsiPlJvYWQgVHlwZTwvZGl2PjwvdGQ%2BCiAgICAgICAgICAgICAgICAgICAgICAgIDx0ZCBzdHlsZT0id2lkdGg6IDMwMHB4O2JhY2tncm91bmQtY29sb3I6ICNGMEY4RkY7Ij5PbmUgd2F5IHN0cmVldDwvdGQ%2BCiAgICAgICAgICAgICAgICAgICAgICAgIDwvdHI%2BCgogICAgICAgICAgICAgICAgICAgICAgICA8L3Rib2R5PgogICAgICAgICAgICAgICAgICAgICAgICA8L3RhYmxlPgogICAgICAgICAgICAgICAgICAgICAgICA8L2h0bWw%2BCiAgICAgICAgICAgICAgICAgICAgICAgIA%3D%3D%22%20width%3D%22600%22%20style%3D%22border%3Anone%20%21important%3B%22%20height%3D%22300%22%3E%3C/iframe%3E%60%29%5B0%5D%3B%0A%20%20%20%20%20%20%20%20%20%20%20%20popup_a522731cf82344738d7161bb082ed978.setContent%28i_frame_d0c609a068d3470486bcf8bc068ee38b%29%3B%0A%20%20%20%20%20%20%20%20%0A%0A%20%20%20%20%20%20%20%20marker_f019f1de12124b389cecc080b5351b3e.bindPopup%28popup_a522731cf82344738d7161bb082ed978%29%0A%20%20%20%20%20%20%20%20%3B%0A%0A%20%20%20%20%20%20%20%20%0A%20%20%20%20%0A%20%20%20%20%0A%20%20%20%20%20%20%20%20%20%20%20%20var%20marker_67166960ae3f4f649b7093948bfdf16a%20%3D%20L.marker%28%0A%20%20%20%20%20%20%20%20%20%20%20%20%20%20%20%20%5B51.491174%2C%20-0.191808%5D%2C%0A%20%20%20%20%20%20%20%20%20%20%20%20%20%20%20%20%7B%7D%0A%20%20%20%20%20%20%20%20%20%20%20%20%29.addTo%28map_75fd2d2f71c54ce2a9e39e21ce78aa24%29%3B%0A%20%20%20%20%20%20%20%20%0A%20%20%20%20%0A%20%20%20%20%20%20%20%20%20%20%20%20var%20icon_bddfc69384484dd8ba30cdd8bf5556ed%20%3D%20L.AwesomeMarkers.icon%28%0A%20%20%20%20%20%20%20%20%20%20%20%20%20%20%20%20%7B%22extraClasses%22%3A%20%22fa-rotate-0%22%2C%20%22icon%22%3A%20%22remove-sign%22%2C%20%22iconColor%22%3A%20%22white%22%2C%20%22markerColor%22%3A%20%22red%22%2C%20%22prefix%22%3A%20%22glyphicon%22%7D%0A%20%20%20%20%20%20%20%20%20%20%20%20%29%3B%0A%20%20%20%20%20%20%20%20%20%20%20%20marker_67166960ae3f4f649b7093948bfdf16a.setIcon%28icon_bddfc69384484dd8ba30cdd8bf5556ed%29%3B%0A%20%20%20%20%20%20%20%20%0A%20%20%20%20%0A%20%20%20%20%20%20%20%20var%20popup_1275b16191ee4e799a496873f1dcb36f%20%3D%20L.popup%28%7B%22maxWidth%22%3A%20%22100%25%22%7D%29%3B%0A%0A%20%20%20%20%20%20%20%20%0A%20%20%20%20%20%20%20%20%20%20%20%20var%20i_frame_707b04e31d02422697a4569592ec226d%20%3D%20%24%28%60%3Ciframe%20src%3D%22data%3Atext/html%3Bcharset%3Dutf-8%3Bbase64%2CCiAgICA8IURPQ1RZUEUgaHRtbD4KICAgICAgICAgICAgICAgICAgICAgICAgPGh0bWw%2BCgogICAgICAgICAgICAgICAgICAgICAgICA8aGVhZD4KICAgICAgICAgICAgICAgICAgICAgICAgICAgIDxoMj5EZXRhaWxlZCBJbmZvbWF0aW9uIG9mIGFjY2lkZW50IDIwMDUwMVRBMDAwNTI8L2g0PgogICAgICAgICAgICAgICAgICAgICAgICA8L2hlYWQ%2BCiAgICAgICAgICAgICAgICAgICAgICAgIDx0YWJsZSBzdHlsZT0iaGVpZ2h0OiAxMzBweDsgd2lkdGg6IDYwMHB4OyI%2BCiAgICAgICAgICAgICAgICAgICAgICAgIDx0Ym9keT4KICAgICAgICAgICAgICAgICAgICAgICAgPHRyPgogICAgICAgICAgICAgICAgICAgICAgICA8dGQgc3R5bGU9ImJhY2tncm91bmQtY29sb3I6ICNCMEUwRTY7Ij48ZGl2IHN0eWxlPSJ0ZXh0LWFsaWduOiBjZW50ZXI7Ij5EYXRlPC9kaXY%2BPC90ZD4KICAgICAgICAgICAgICAgICAgICAgICAgPHRkIHN0eWxlPSJ3aWR0aDogMzAwcHg7YmFja2dyb3VuZC1jb2xvcjogI0YwRjhGRjsiPjA5LzAzLzIwMDU8L3RkPgogICAgICAgICAgICAgICAgICAgICAgICA8L3RyPgogICAgICAgICAgICAgICAgICAgICAgICA8dHI%2BCiAgICAgICAgICAgICAgICAgICAgICAgIDx0ZCBzdHlsZT0iYmFja2dyb3VuZC1jb2xvcjogI0IwRTBFNjsiPjxkaXYgc3R5bGU9InRleHQtYWxpZ246IGNlbnRlcjsiPk51bWJlciBvZiBWZWhpY2xlczwvZGl2PjwvdGQ%2BCiAgICAgICAgICAgICAgICAgICAgICAgIDx0ZCBzdHlsZT0id2lkdGg6IDMwMHB4O2JhY2tncm91bmQtY29sb3I6ICNGMEY4RkY7Ij4yPC90ZD4KICAgICAgICAgICAgICAgICAgICAgICAgPC90cj4KCiAgICAgICAgICAgICAgICAgICAgICAgIDx0cj4KICAgICAgICAgICAgICAgICAgICAgICAgPHRkIHN0eWxlPSJiYWNrZ3JvdW5kLWNvbG9yOiAjQjBFMEU2OyI%2BPGRpdiBzdHlsZT0idGV4dC1hbGlnbjogY2VudGVyOyI%2BTnVtYmVyIG9mIENhc3VhbHRpZXM8L2Rpdj48L3RkPgogICAgICAgICAgICAgICAgICAgICAgICA8dGQgc3R5bGU9IndpZHRoOiAzMDBweDtiYWNrZ3JvdW5kLWNvbG9yOiAjRjBGOEZGOyI%2BMjwvdGQ%2BCiAgICAgICAgICAgICAgICAgICAgICAgIDwvdHI%2BCgogICAgICAgICAgICAgICAgICAgICAgICA8dHI%2BCiAgICAgICAgICAgICAgICAgICAgICAgIDx0ZCBzdHlsZT0iYmFja2dyb3VuZC1jb2xvcjogI0IwRTBFNjsiPjxkaXYgc3R5bGU9InRleHQtYWxpZ246IGNlbnRlcjsiPlRpbWU8L2Rpdj48L3RkPgogICAgICAgICAgICAgICAgICAgICAgICA8dGQgc3R5bGU9IndpZHRoOiAzMDBweDtiYWNrZ3JvdW5kLWNvbG9yOiAjRjBGOEZGOyI%2BMTU6Mzc8L3RkPgogICAgICAgICAgICAgICAgICAgICAgICA8L3RyPgoKICAgICAgICAgICAgICAgICAgICAgICAgPHRyPgogICAgICAgICAgICAgICAgICAgICAgICA8dGQgc3R5bGU9ImJhY2tncm91bmQtY29sb3I6ICNCMEUwRTY7Ij48ZGl2IHN0eWxlPSJ0ZXh0LWFsaWduOiBjZW50ZXI7Ij5MaWdodCBDb25kaXRpb25zPC9kaXY%2BPC90ZD4KICAgICAgICAgICAgICAgICAgICAgICAgPHRkIHN0eWxlPSJ3aWR0aDogMzAwcHg7YmFja2dyb3VuZC1jb2xvcjogI0YwRjhGRjsiPkRheWxpZ2h0OiBTdHJlZXQgbGlnaHQgcHJlc2VudDwvdGQ%2BCiAgICAgICAgICAgICAgICAgICAgICAgIDwvdHI%2BCgogICAgICAgICAgICAgICAgICAgICAgICA8dHI%2BCiAgICAgICAgICAgICAgICAgICAgICAgIDx0ZCBzdHlsZT0iYmFja2dyb3VuZC1jb2xvcjogI0IwRTBFNjsiPjxkaXYgc3R5bGU9InRleHQtYWxpZ246IGNlbnRlcjsiPldlYXRoZXIgQ29uZGl0aW9uczwvZGl2PjwvdGQ%2BCiAgICAgICAgICAgICAgICAgICAgICAgIDx0ZCBzdHlsZT0id2lkdGg6IDMwMHB4O2JhY2tncm91bmQtY29sb3I6ICNGMEY4RkY7Ij5SYWluaW5nIHdpdGhvdXQgaGlnaCB3aW5kczwvdGQ%2BCiAgICAgICAgICAgICAgICAgICAgICAgIDwvdHI%2BCgogICAgICAgICAgICAgICAgICAgICAgICA8dHI%2BCiAgICAgICAgICAgICAgICAgICAgICAgIDx0ZCBzdHlsZT0iYmFja2dyb3VuZC1jb2xvcjogI0IwRTBFNjt3aWR0aDogMzAwcHgiPjxkaXYgc3R5bGU9InRleHQtYWxpZ246IGNlbnRlcjsiPlJvYWQgU3VyZmFjZSBDb25kaXRpb25zPC9kaXY%2BPC90ZD4KICAgICAgICAgICAgICAgICAgICAgICAgPHRkIHN0eWxlPSJ3aWR0aDogMzAwcHg7YmFja2dyb3VuZC1jb2xvcjogI0YwRjhGRjsiPldldC9EYW1wPC90ZD4KICAgICAgICAgICAgICAgICAgICAgICAgPC90cj4KCiAgICAgICAgICAgICAgICAgICAgICAgIDx0cj4KICAgICAgICAgICAgICAgICAgICAgICAgPHRkIHN0eWxlPSJiYWNrZ3JvdW5kLWNvbG9yOiAjQjBFMEU2O3dpZHRoOiAzMDBweCI%2BPGRpdiBzdHlsZT0idGV4dC1hbGlnbjogY2VudGVyOyI%2BUm9hZCBUeXBlPC9kaXY%2BPC90ZD4KICAgICAgICAgICAgICAgICAgICAgICAgPHRkIHN0eWxlPSJ3aWR0aDogMzAwcHg7YmFja2dyb3VuZC1jb2xvcjogI0YwRjhGRjsiPk9uZSB3YXkgc3RyZWV0PC90ZD4KICAgICAgICAgICAgICAgICAgICAgICAgPC90cj4KCiAgICAgICAgICAgICAgICAgICAgICAgIDwvdGJvZHk%2BCiAgICAgICAgICAgICAgICAgICAgICAgIDwvdGFibGU%2BCiAgICAgICAgICAgICAgICAgICAgICAgIDwvaHRtbD4KICAgICAgICAgICAgICAgICAgICAgICAg%22%20width%3D%22600%22%20style%3D%22border%3Anone%20%21important%3B%22%20height%3D%22300%22%3E%3C/iframe%3E%60%29%5B0%5D%3B%0A%20%20%20%20%20%20%20%20%20%20%20%20popup_1275b16191ee4e799a496873f1dcb36f.setContent%28i_frame_707b04e31d02422697a4569592ec226d%29%3B%0A%20%20%20%20%20%20%20%20%0A%0A%20%20%20%20%20%20%20%20marker_67166960ae3f4f649b7093948bfdf16a.bindPopup%28popup_1275b16191ee4e799a496873f1dcb36f%29%0A%20%20%20%20%20%20%20%20%3B%0A%0A%20%20%20%20%20%20%20%20%0A%20%20%20%20%0A%20%20%20%20%0A%20%20%20%20%20%20%20%20%20%20%20%20var%20marker_314e41aca5014dd7b381e78c3f4c2647%20%3D%20L.marker%28%0A%20%20%20%20%20%20%20%20%20%20%20%20%20%20%20%20%5B51.490444%2C%20-0.191117%5D%2C%0A%20%20%20%20%20%20%20%20%20%20%20%20%20%20%20%20%7B%7D%0A%20%20%20%20%20%20%20%20%20%20%20%20%29.addTo%28map_75fd2d2f71c54ce2a9e39e21ce78aa24%29%3B%0A%20%20%20%20%20%20%20%20%0A%20%20%20%20%0A%20%20%20%20%20%20%20%20%20%20%20%20var%20icon_14c56b4a16f14112aa8ea90b4f61c504%20%3D%20L.AwesomeMarkers.icon%28%0A%20%20%20%20%20%20%20%20%20%20%20%20%20%20%20%20%7B%22extraClasses%22%3A%20%22fa-rotate-0%22%2C%20%22icon%22%3A%20%22remove-sign%22%2C%20%22iconColor%22%3A%20%22white%22%2C%20%22markerColor%22%3A%20%22red%22%2C%20%22prefix%22%3A%20%22glyphicon%22%7D%0A%20%20%20%20%20%20%20%20%20%20%20%20%29%3B%0A%20%20%20%20%20%20%20%20%20%20%20%20marker_314e41aca5014dd7b381e78c3f4c2647.setIcon%28icon_14c56b4a16f14112aa8ea90b4f61c504%29%3B%0A%20%20%20%20%20%20%20%20%0A%20%20%20%20%0A%20%20%20%20%20%20%20%20var%20popup_4dc74f47d234483dbe72bf14ff1400ee%20%3D%20L.popup%28%7B%22maxWidth%22%3A%20%22100%25%22%7D%29%3B%0A%0A%20%20%20%20%20%20%20%20%0A%20%20%20%20%20%20%20%20%20%20%20%20var%20i_frame_30df9f84909e459ea3f0c324f6aa32d4%20%3D%20%24%28%60%3Ciframe%20src%3D%22data%3Atext/html%3Bcharset%3Dutf-8%3Bbase64%2CCiAgICA8IURPQ1RZUEUgaHRtbD4KICAgICAgICAgICAgICAgICAgICAgICAgPGh0bWw%2BCgogICAgICAgICAgICAgICAgICAgICAgICA8aGVhZD4KICAgICAgICAgICAgICAgICAgICAgICAgICAgIDxoMj5EZXRhaWxlZCBJbmZvbWF0aW9uIG9mIGFjY2lkZW50IDIwMDUwMVRBMDAyMTM8L2g0PgogICAgICAgICAgICAgICAgICAgICAgICA8L2hlYWQ%2BCiAgICAgICAgICAgICAgICAgICAgICAgIDx0YWJsZSBzdHlsZT0iaGVpZ2h0OiAxMzBweDsgd2lkdGg6IDYwMHB4OyI%2BCiAgICAgICAgICAgICAgICAgICAgICAgIDx0Ym9keT4KICAgICAgICAgICAgICAgICAgICAgICAgPHRyPgogICAgICAgICAgICAgICAgICAgICAgICA8dGQgc3R5bGU9ImJhY2tncm91bmQtY29sb3I6ICNCMEUwRTY7Ij48ZGl2IHN0eWxlPSJ0ZXh0LWFsaWduOiBjZW50ZXI7Ij5EYXRlPC9kaXY%2BPC90ZD4KICAgICAgICAgICAgICAgICAgICAgICAgPHRkIHN0eWxlPSJ3aWR0aDogMzAwcHg7YmFja2dyb3VuZC1jb2xvcjogI0YwRjhGRjsiPjI5LzA5LzIwMDU8L3RkPgogICAgICAgICAgICAgICAgICAgICAgICA8L3RyPgogICAgICAgICAgICAgICAgICAgICAgICA8dHI%2BCiAgICAgICAgICAgICAgICAgICAgICAgIDx0ZCBzdHlsZT0iYmFja2dyb3VuZC1jb2xvcjogI0IwRTBFNjsiPjxkaXYgc3R5bGU9InRleHQtYWxpZ246IGNlbnRlcjsiPk51bWJlciBvZiBWZWhpY2xlczwvZGl2PjwvdGQ%2BCiAgICAgICAgICAgICAgICAgICAgICAgIDx0ZCBzdHlsZT0id2lkdGg6IDMwMHB4O2JhY2tncm91bmQtY29sb3I6ICNGMEY4RkY7Ij44PC90ZD4KICAgICAgICAgICAgICAgICAgICAgICAgPC90cj4KCiAgICAgICAgICAgICAgICAgICAgICAgIDx0cj4KICAgICAgICAgICAgICAgICAgICAgICAgPHRkIHN0eWxlPSJiYWNrZ3JvdW5kLWNvbG9yOiAjQjBFMEU2OyI%2BPGRpdiBzdHlsZT0idGV4dC1hbGlnbjogY2VudGVyOyI%2BTnVtYmVyIG9mIENhc3VhbHRpZXM8L2Rpdj48L3RkPgogICAgICAgICAgICAgICAgICAgICAgICA8dGQgc3R5bGU9IndpZHRoOiAzMDBweDtiYWNrZ3JvdW5kLWNvbG9yOiAjRjBGOEZGOyI%2BMTwvdGQ%2BCiAgICAgICAgICAgICAgICAgICAgICAgIDwvdHI%2BCgogICAgICAgICAgICAgICAgICAgICAgICA8dHI%2BCiAgICAgICAgICAgICAgICAgICAgICAgIDx0ZCBzdHlsZT0iYmFja2dyb3VuZC1jb2xvcjogI0IwRTBFNjsiPjxkaXYgc3R5bGU9InRleHQtYWxpZ246IGNlbnRlcjsiPlRpbWU8L2Rpdj48L3RkPgogICAgICAgICAgICAgICAgICAgICAgICA8dGQgc3R5bGU9IndpZHRoOiAzMDBweDtiYWNrZ3JvdW5kLWNvbG9yOiAjRjBGOEZGOyI%2BMDc6NTM8L3RkPgogICAgICAgICAgICAgICAgICAgICAgICA8L3RyPgoKICAgICAgICAgICAgICAgICAgICAgICAgPHRyPgogICAgICAgICAgICAgICAgICAgICAgICA8dGQgc3R5bGU9ImJhY2tncm91bmQtY29sb3I6ICNCMEUwRTY7Ij48ZGl2IHN0eWxlPSJ0ZXh0LWFsaWduOiBjZW50ZXI7Ij5MaWdodCBDb25kaXRpb25zPC9kaXY%2BPC90ZD4KICAgICAgICAgICAgICAgICAgICAgICAgPHRkIHN0eWxlPSJ3aWR0aDogMzAwcHg7YmFja2dyb3VuZC1jb2xvcjogI0YwRjhGRjsiPkRheWxpZ2h0OiBTdHJlZXQgbGlnaHQgcHJlc2VudDwvdGQ%2BCiAgICAgICAgICAgICAgICAgICAgICAgIDwvdHI%2BCgogICAgICAgICAgICAgICAgICAgICAgICA8dHI%2BCiAgICAgICAgICAgICAgICAgICAgICAgIDx0ZCBzdHlsZT0iYmFja2dyb3VuZC1jb2xvcjogI0IwRTBFNjsiPjxkaXYgc3R5bGU9InRleHQtYWxpZ246IGNlbnRlcjsiPldlYXRoZXIgQ29uZGl0aW9uczwvZGl2PjwvdGQ%2BCiAgICAgICAgICAgICAgICAgICAgICAgIDx0ZCBzdHlsZT0id2lkdGg6IDMwMHB4O2JhY2tncm91bmQtY29sb3I6ICNGMEY4RkY7Ij5GaW5lIHdpdGhvdXQgaGlnaCB3aW5kczwvdGQ%2BCiAgICAgICAgICAgICAgICAgICAgICAgIDwvdHI%2BCgogICAgICAgICAgICAgICAgICAgICAgICA8dHI%2BCiAgICAgICAgICAgICAgICAgICAgICAgIDx0ZCBzdHlsZT0iYmFja2dyb3VuZC1jb2xvcjogI0IwRTBFNjt3aWR0aDogMzAwcHgiPjxkaXYgc3R5bGU9InRleHQtYWxpZ246IGNlbnRlcjsiPlJvYWQgU3VyZmFjZSBDb25kaXRpb25zPC9kaXY%2BPC90ZD4KICAgICAgICAgICAgICAgICAgICAgICAgPHRkIHN0eWxlPSJ3aWR0aDogMzAwcHg7YmFja2dyb3VuZC1jb2xvcjogI0YwRjhGRjsiPkRyeTwvdGQ%2BCiAgICAgICAgICAgICAgICAgICAgICAgIDwvdHI%2BCgogICAgICAgICAgICAgICAgICAgICAgICA8dHI%2BCiAgICAgICAgICAgICAgICAgICAgICAgIDx0ZCBzdHlsZT0iYmFja2dyb3VuZC1jb2xvcjogI0IwRTBFNjt3aWR0aDogMzAwcHgiPjxkaXYgc3R5bGU9InRleHQtYWxpZ246IGNlbnRlcjsiPlJvYWQgVHlwZTwvZGl2PjwvdGQ%2BCiAgICAgICAgICAgICAgICAgICAgICAgIDx0ZCBzdHlsZT0id2lkdGg6IDMwMHB4O2JhY2tncm91bmQtY29sb3I6ICNGMEY4RkY7Ij5PbmUgd2F5IHN0cmVldDwvdGQ%2BCiAgICAgICAgICAgICAgICAgICAgICAgIDwvdHI%2BCgogICAgICAgICAgICAgICAgICAgICAgICA8L3Rib2R5PgogICAgICAgICAgICAgICAgICAgICAgICA8L3RhYmxlPgogICAgICAgICAgICAgICAgICAgICAgICA8L2h0bWw%2BCiAgICAgICAgICAgICAgICAgICAgICAgIA%3D%3D%22%20width%3D%22600%22%20style%3D%22border%3Anone%20%21important%3B%22%20height%3D%22300%22%3E%3C/iframe%3E%60%29%5B0%5D%3B%0A%20%20%20%20%20%20%20%20%20%20%20%20popup_4dc74f47d234483dbe72bf14ff1400ee.setContent%28i_frame_30df9f84909e459ea3f0c324f6aa32d4%29%3B%0A%20%20%20%20%20%20%20%20%0A%0A%20%20%20%20%20%20%20%20marker_314e41aca5014dd7b381e78c3f4c2647.bindPopup%28popup_4dc74f47d234483dbe72bf14ff1400ee%29%0A%20%20%20%20%20%20%20%20%3B%0A%0A%20%20%20%20%20%20%20%20%0A%20%20%20%20%0A%3C/script%3E onload=\"this.contentDocument.open();this.contentDocument.write(    decodeURIComponent(this.getAttribute('data-html')));this.contentDocument.close();\" allowfullscreen webkitallowfullscreen mozallowfullscreen></iframe></div></div>"
      ],
      "text/plain": [
       "<folium.folium.Map at 0x7fdaba58aa50>"
      ]
     },
     "execution_count": 22,
     "metadata": {},
     "output_type": "execute_result"
    }
   ],
   "source": [
    "uk_map"
   ]
  },
  {
   "cell_type": "code",
   "execution_count": 20,
   "id": "f0372907",
   "metadata": {},
   "outputs": [],
   "source": [
    "def hitmap(df, LSOA_of_Accident_Location, Year, zoom_start, target_col):\n",
    "    df_filtered = df[(df[\"LSOA_of_Accident_Location\"]==LSOA_of_Accident_Location)&(df[\"Year\"]==Year)]\n",
    "    location = (df_filtered[\"Latitude\"].mean(),df_filtered[\"Longitude\"].mean())\n",
    "    print(location)\n",
    "    uk_map = folium.Map(location=location, zoom_start=zoom_start)\n",
    "    \n",
    "    data_heat = df_filtered[['Latitude','Longitude',target_col]].dropna().values.tolist()\n",
    "    plugins.HeatMap(data_heat).add_to(uk_map)\n",
    "    return uk_map"
   ]
  },
  {
   "cell_type": "code",
   "execution_count": 19,
   "id": "50fed518",
   "metadata": {},
   "outputs": [
    {
     "name": "stdout",
     "output_type": "stream",
     "text": [
      "(51.490235, -0.19182911111111112)\n"
     ]
    },
    {
     "data": {
      "text/html": [
       "<div style=\"width:100%;\"><div style=\"position:relative;width:100%;height:0;padding-bottom:60%;\"><span style=\"color:#565656\">Make this Notebook Trusted to load map: File -> Trust Notebook</span><iframe src=\"about:blank\" style=\"position:absolute;width:100%;height:100%;left:0;top:0;border:none !important;\" data-html=%3C%21DOCTYPE%20html%3E%0A%3Chead%3E%20%20%20%20%0A%20%20%20%20%3Cmeta%20http-equiv%3D%22content-type%22%20content%3D%22text/html%3B%20charset%3DUTF-8%22%20/%3E%0A%20%20%20%20%0A%20%20%20%20%20%20%20%20%3Cscript%3E%0A%20%20%20%20%20%20%20%20%20%20%20%20L_NO_TOUCH%20%3D%20false%3B%0A%20%20%20%20%20%20%20%20%20%20%20%20L_DISABLE_3D%20%3D%20false%3B%0A%20%20%20%20%20%20%20%20%3C/script%3E%0A%20%20%20%20%0A%20%20%20%20%3Cstyle%3Ehtml%2C%20body%20%7Bwidth%3A%20100%25%3Bheight%3A%20100%25%3Bmargin%3A%200%3Bpadding%3A%200%3B%7D%3C/style%3E%0A%20%20%20%20%3Cstyle%3E%23map%20%7Bposition%3Aabsolute%3Btop%3A0%3Bbottom%3A0%3Bright%3A0%3Bleft%3A0%3B%7D%3C/style%3E%0A%20%20%20%20%3Cscript%20src%3D%22https%3A//cdn.jsdelivr.net/npm/leaflet%401.6.0/dist/leaflet.js%22%3E%3C/script%3E%0A%20%20%20%20%3Cscript%20src%3D%22https%3A//code.jquery.com/jquery-1.12.4.min.js%22%3E%3C/script%3E%0A%20%20%20%20%3Cscript%20src%3D%22https%3A//maxcdn.bootstrapcdn.com/bootstrap/3.2.0/js/bootstrap.min.js%22%3E%3C/script%3E%0A%20%20%20%20%3Cscript%20src%3D%22https%3A//cdnjs.cloudflare.com/ajax/libs/Leaflet.awesome-markers/2.0.2/leaflet.awesome-markers.js%22%3E%3C/script%3E%0A%20%20%20%20%3Clink%20rel%3D%22stylesheet%22%20href%3D%22https%3A//cdn.jsdelivr.net/npm/leaflet%401.6.0/dist/leaflet.css%22/%3E%0A%20%20%20%20%3Clink%20rel%3D%22stylesheet%22%20href%3D%22https%3A//maxcdn.bootstrapcdn.com/bootstrap/3.2.0/css/bootstrap.min.css%22/%3E%0A%20%20%20%20%3Clink%20rel%3D%22stylesheet%22%20href%3D%22https%3A//maxcdn.bootstrapcdn.com/bootstrap/3.2.0/css/bootstrap-theme.min.css%22/%3E%0A%20%20%20%20%3Clink%20rel%3D%22stylesheet%22%20href%3D%22https%3A//maxcdn.bootstrapcdn.com/font-awesome/4.6.3/css/font-awesome.min.css%22/%3E%0A%20%20%20%20%3Clink%20rel%3D%22stylesheet%22%20href%3D%22https%3A//cdnjs.cloudflare.com/ajax/libs/Leaflet.awesome-markers/2.0.2/leaflet.awesome-markers.css%22/%3E%0A%20%20%20%20%3Clink%20rel%3D%22stylesheet%22%20href%3D%22https%3A//cdn.jsdelivr.net/gh/python-visualization/folium/folium/templates/leaflet.awesome.rotate.min.css%22/%3E%0A%20%20%20%20%0A%20%20%20%20%20%20%20%20%20%20%20%20%3Cmeta%20name%3D%22viewport%22%20content%3D%22width%3Ddevice-width%2C%0A%20%20%20%20%20%20%20%20%20%20%20%20%20%20%20%20initial-scale%3D1.0%2C%20maximum-scale%3D1.0%2C%20user-scalable%3Dno%22%20/%3E%0A%20%20%20%20%20%20%20%20%20%20%20%20%3Cstyle%3E%0A%20%20%20%20%20%20%20%20%20%20%20%20%20%20%20%20%23map_3c07c633533b45df9c6919bb7e692b20%20%7B%0A%20%20%20%20%20%20%20%20%20%20%20%20%20%20%20%20%20%20%20%20position%3A%20relative%3B%0A%20%20%20%20%20%20%20%20%20%20%20%20%20%20%20%20%20%20%20%20width%3A%20100.0%25%3B%0A%20%20%20%20%20%20%20%20%20%20%20%20%20%20%20%20%20%20%20%20height%3A%20100.0%25%3B%0A%20%20%20%20%20%20%20%20%20%20%20%20%20%20%20%20%20%20%20%20left%3A%200.0%25%3B%0A%20%20%20%20%20%20%20%20%20%20%20%20%20%20%20%20%20%20%20%20top%3A%200.0%25%3B%0A%20%20%20%20%20%20%20%20%20%20%20%20%20%20%20%20%7D%0A%20%20%20%20%20%20%20%20%20%20%20%20%3C/style%3E%0A%20%20%20%20%20%20%20%20%0A%20%20%20%20%3Cscript%20src%3D%22https%3A//cdn.jsdelivr.net/gh/python-visualization/folium%40master/folium/templates/leaflet_heat.min.js%22%3E%3C/script%3E%0A%3C/head%3E%0A%3Cbody%3E%20%20%20%20%0A%20%20%20%20%0A%20%20%20%20%20%20%20%20%20%20%20%20%3Cdiv%20class%3D%22folium-map%22%20id%3D%22map_3c07c633533b45df9c6919bb7e692b20%22%20%3E%3C/div%3E%0A%20%20%20%20%20%20%20%20%0A%3C/body%3E%0A%3Cscript%3E%20%20%20%20%0A%20%20%20%20%0A%20%20%20%20%20%20%20%20%20%20%20%20var%20map_3c07c633533b45df9c6919bb7e692b20%20%3D%20L.map%28%0A%20%20%20%20%20%20%20%20%20%20%20%20%20%20%20%20%22map_3c07c633533b45df9c6919bb7e692b20%22%2C%0A%20%20%20%20%20%20%20%20%20%20%20%20%20%20%20%20%7B%0A%20%20%20%20%20%20%20%20%20%20%20%20%20%20%20%20%20%20%20%20center%3A%20%5B51.490235%2C%20-0.19182911111111112%5D%2C%0A%20%20%20%20%20%20%20%20%20%20%20%20%20%20%20%20%20%20%20%20crs%3A%20L.CRS.EPSG3857%2C%0A%20%20%20%20%20%20%20%20%20%20%20%20%20%20%20%20%20%20%20%20zoom%3A%2015%2C%0A%20%20%20%20%20%20%20%20%20%20%20%20%20%20%20%20%20%20%20%20zoomControl%3A%20true%2C%0A%20%20%20%20%20%20%20%20%20%20%20%20%20%20%20%20%20%20%20%20preferCanvas%3A%20false%2C%0A%20%20%20%20%20%20%20%20%20%20%20%20%20%20%20%20%7D%0A%20%20%20%20%20%20%20%20%20%20%20%20%29%3B%0A%0A%20%20%20%20%20%20%20%20%20%20%20%20%0A%0A%20%20%20%20%20%20%20%20%0A%20%20%20%20%0A%20%20%20%20%20%20%20%20%20%20%20%20var%20tile_layer_ad555065b2974350bedef18178b6b99e%20%3D%20L.tileLayer%28%0A%20%20%20%20%20%20%20%20%20%20%20%20%20%20%20%20%22https%3A//%7Bs%7D.tile.openstreetmap.org/%7Bz%7D/%7Bx%7D/%7By%7D.png%22%2C%0A%20%20%20%20%20%20%20%20%20%20%20%20%20%20%20%20%7B%22attribution%22%3A%20%22Data%20by%20%5Cu0026copy%3B%20%5Cu003ca%20href%3D%5C%22http%3A//openstreetmap.org%5C%22%5Cu003eOpenStreetMap%5Cu003c/a%5Cu003e%2C%20under%20%5Cu003ca%20href%3D%5C%22http%3A//www.openstreetmap.org/copyright%5C%22%5Cu003eODbL%5Cu003c/a%5Cu003e.%22%2C%20%22detectRetina%22%3A%20false%2C%20%22maxNativeZoom%22%3A%2018%2C%20%22maxZoom%22%3A%2018%2C%20%22minZoom%22%3A%200%2C%20%22noWrap%22%3A%20false%2C%20%22opacity%22%3A%201%2C%20%22subdomains%22%3A%20%22abc%22%2C%20%22tms%22%3A%20false%7D%0A%20%20%20%20%20%20%20%20%20%20%20%20%29.addTo%28map_3c07c633533b45df9c6919bb7e692b20%29%3B%0A%20%20%20%20%20%20%20%20%0A%20%20%20%20%0A%20%20%20%20%20%20%20%20%20%20%20%20var%20heat_map_e281681f610c476ca11e317eec56b776%20%3D%20L.heatLayer%28%0A%20%20%20%20%20%20%20%20%20%20%20%20%20%20%20%20%5B%5B51.489096%2C%20-0.19117%2C%201.0%5D%2C%20%5B51.491632%2C%20-0.192366%2C%201.0%5D%2C%20%5B51.488671%2C%20-0.192771%2C%202.0%5D%2C%20%5B51.488579%2C%20-0.192631%2C%201.0%5D%2C%20%5B51.49008%2C%20-0.190843%2C%201.0%5D%2C%20%5B51.490715%2C%20-0.19125%2C%201.0%5D%2C%20%5B51.491724%2C%20-0.192506%2C%201.0%5D%2C%20%5B51.491174%2C%20-0.191808%2C%202.0%5D%2C%20%5B51.490444%2C%20-0.191117%2C%201.0%5D%5D%2C%0A%20%20%20%20%20%20%20%20%20%20%20%20%20%20%20%20%7B%22blur%22%3A%2015%2C%20%22maxZoom%22%3A%2018%2C%20%22minOpacity%22%3A%200.5%2C%20%22radius%22%3A%2025%7D%0A%20%20%20%20%20%20%20%20%20%20%20%20%29.addTo%28map_3c07c633533b45df9c6919bb7e692b20%29%3B%0A%20%20%20%20%20%20%20%20%0A%3C/script%3E onload=\"this.contentDocument.open();this.contentDocument.write(    decodeURIComponent(this.getAttribute('data-html')));this.contentDocument.close();\" allowfullscreen webkitallowfullscreen mozallowfullscreen></iframe></div></div>"
      ],
      "text/plain": [
       "<folium.folium.Map at 0x7fdaba5ab510>"
      ]
     },
     "execution_count": 19,
     "metadata": {},
     "output_type": "execute_result"
    }
   ],
   "source": [
    "LSOA_of_Accident_Location = \"E01002849\"\n",
    "Year = 2005\n",
    "zoom_start = 15\n",
    "target_col = \"Number_of_Casualties\"\n",
    "uk_map = hitmap(df, LSOA_of_Accident_Location, Year, zoom_start, target_col)\n",
    "uk_map"
   ]
  },
  {
   "cell_type": "code",
   "execution_count": null,
   "id": "fb7fecae",
   "metadata": {},
   "outputs": [],
   "source": []
  }
 ],
 "metadata": {
  "kernelspec": {
   "display_name": "Python [conda env:bigdata]",
   "language": "python",
   "name": "conda-env-bigdata-py"
  },
  "language_info": {
   "codemirror_mode": {
    "name": "ipython",
    "version": 3
   },
   "file_extension": ".py",
   "mimetype": "text/x-python",
   "name": "python",
   "nbconvert_exporter": "python",
   "pygments_lexer": "ipython3",
   "version": "3.7.10"
  }
 },
 "nbformat": 4,
 "nbformat_minor": 5
}
